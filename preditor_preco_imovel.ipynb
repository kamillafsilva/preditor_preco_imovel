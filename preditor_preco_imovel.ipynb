{
  "cells": [
    {
      "cell_type": "markdown",
      "metadata": {
        "id": "YU6UOsHUVRrP"
      },
      "source": [
        "# Preparação do ambiente Spark"
      ]
    },
    {
      "cell_type": "code",
      "execution_count": null,
      "metadata": {
        "id": "TnOkzYLFRtiJ"
      },
      "outputs": [],
      "source": [
        "!pip -qq install pyspark"
      ]
    },
    {
      "cell_type": "code",
      "execution_count": null,
      "metadata": {
        "id": "UP7fr4vAvU1G"
      },
      "outputs": [],
      "source": [
        "from pyspark.sql import SparkSession"
      ]
    },
    {
      "cell_type": "code",
      "execution_count": null,
      "metadata": {
        "id": "vAE2fUVxrGhn"
      },
      "outputs": [],
      "source": [
        "spark = SparkSession.builder\\\n",
        "    .master('local[*]')\\\n",
        "    .appName(\"Regressão com Spark\")\\\n",
        "    .getOrCreate()"
      ]
    },
    {
      "cell_type": "markdown",
      "metadata": {
        "id": "3Qu3cJZiVGZj"
      },
      "source": [
        "# Importação dos dados"
      ]
    },
    {
      "cell_type": "markdown",
      "metadata": {
        "id": "mLmYtmohNAZO"
      },
      "source": [
        "A base de dados contém informações de 73.615 imóveis à venda no Rio de Janeiro. O arquivo é do tipo JSON as colunas estão aninhadas, como podemos verificar no schema:"
      ]
    },
    {
      "cell_type": "code",
      "execution_count": null,
      "metadata": {
        "id": "iP7OBADXR3b_"
      },
      "outputs": [],
      "source": [
        "!mkdir assets\n",
        "! wget -qq -O ./assets/imoveis.json https://github.com/kamillafsilva/preditor_preco_imovel/blob/main/assets/imoveis.json?raw=true"
      ]
    },
    {
      "cell_type": "code",
      "execution_count": null,
      "metadata": {
        "id": "a8bGatX5vnIN"
      },
      "outputs": [],
      "source": [
        "raw = spark.read.option(\"multiline\", \"true\").json('./assets/imoveis.json')"
      ]
    },
    {
      "cell_type": "code",
      "execution_count": null,
      "metadata": {
        "colab": {
          "base_uri": "https://localhost:8080/"
        },
        "id": "Wyv_nf83Rs5j",
        "outputId": "ca3bc60c-5b0f-455a-8953-e40c37f273f3"
      },
      "outputs": [
        {
          "output_type": "stream",
          "name": "stdout",
          "text": [
            "+--------------------------+-----------------------------------------------------------------------------------------------------------------------------------------------------------------+\n",
            "|ident                     |listing                                                                                                                                                          |\n",
            "+--------------------------+-----------------------------------------------------------------------------------------------------------------------------------------------------------------+\n",
            "|{775564-BOJSMVON, Website}|{{Rio de Janeiro, {-22.909429, -43.413557}, Taquara, Zona Oeste}, {0, 0, 0, 1, 0, 62, 0, 0, 62}, {45000, {150, 0}}, {Outros, Residencial}}                       |\n",
            "|{660895-AUENKNYY, Website}|{{Rio de Janeiro, {-22.869698, -43.509141}, Santíssimo, Zona Oeste}, {1, 2, 0, 1, 0, 0, 0, 0, 44}, {45000, {120, 0}}, {Apartamento, Residencial}}                |\n",
            "|{751522-JESYFEQL, Website}|{{Rio de Janeiro, {-22.986927, -43.646786}, Pedra de Guaratiba, Zona Oeste}, {0, 0, 0, 0, 0, 132, 0, 0, 132}, {50000, {100, 0}}, {Outros, Residencial}}          |\n",
            "|{714052-GAAEWYKS, Website}|{{Rio de Janeiro, {-22.881977, -43.330818}, Cascadura, Zona Norte}, {1, 0, 0, 0, 0, 32, 3, 0, 32}, {45000, {468, 346}}, {Outros, Comercial}}                     |\n",
            "|{568886-ZIBFOMCC, Website}|{{Rio de Janeiro, {-23.027653, -43.480742}, Recreio dos Bandeirantes, Zona Oeste}, {2, 3, 3, 1, 1, 0, 2, 4, 60}, {50000, {400, 120}}, {Apartamento, Residencial}}|\n",
            "+--------------------------+-----------------------------------------------------------------------------------------------------------------------------------------------------------------+\n",
            "only showing top 5 rows\n",
            "\n"
          ]
        }
      ],
      "source": [
        "raw.show(5, truncate = False)"
      ]
    },
    {
      "cell_type": "code",
      "execution_count": null,
      "metadata": {
        "colab": {
          "base_uri": "https://localhost:8080/"
        },
        "id": "QkitPIHevvIJ",
        "outputId": "74af1ce4-2ef7-4a80-9882-0889ebb309c5"
      },
      "outputs": [
        {
          "output_type": "stream",
          "name": "stdout",
          "text": [
            "root\n",
            " |-- ident: struct (nullable = true)\n",
            " |    |-- customerID: string (nullable = true)\n",
            " |    |-- source: string (nullable = true)\n",
            " |-- listing: struct (nullable = true)\n",
            " |    |-- address: struct (nullable = true)\n",
            " |    |    |-- city: string (nullable = true)\n",
            " |    |    |-- location: struct (nullable = true)\n",
            " |    |    |    |-- lat: double (nullable = true)\n",
            " |    |    |    |-- lon: double (nullable = true)\n",
            " |    |    |-- neighborhood: string (nullable = true)\n",
            " |    |    |-- zone: string (nullable = true)\n",
            " |    |-- features: struct (nullable = true)\n",
            " |    |    |-- bathrooms: long (nullable = true)\n",
            " |    |    |-- bedrooms: long (nullable = true)\n",
            " |    |    |-- floors: long (nullable = true)\n",
            " |    |    |-- parkingSpaces: long (nullable = true)\n",
            " |    |    |-- suites: long (nullable = true)\n",
            " |    |    |-- totalAreas: string (nullable = true)\n",
            " |    |    |-- unitFloor: long (nullable = true)\n",
            " |    |    |-- unitsOnTheFloor: long (nullable = true)\n",
            " |    |    |-- usableAreas: string (nullable = true)\n",
            " |    |-- prices: struct (nullable = true)\n",
            " |    |    |-- price: string (nullable = true)\n",
            " |    |    |-- tax: struct (nullable = true)\n",
            " |    |    |    |-- condo: string (nullable = true)\n",
            " |    |    |    |-- iptu: string (nullable = true)\n",
            " |    |-- types: struct (nullable = true)\n",
            " |    |    |-- unit: string (nullable = true)\n",
            " |    |    |-- usage: string (nullable = true)\n",
            "\n"
          ]
        }
      ],
      "source": [
        "raw.printSchema()"
      ]
    },
    {
      "cell_type": "markdown",
      "metadata": {
        "id": "Ajaaua-JPmEG"
      },
      "source": [
        "Os campos de interesse para o modelo estão armazenados na `struct` ***listing***."
      ]
    },
    {
      "cell_type": "markdown",
      "metadata": {
        "id": "DvifEnf8VA2e"
      },
      "source": [
        "# Preparação dos dados"
      ]
    },
    {
      "cell_type": "markdown",
      "metadata": {
        "id": "a9iJZXwJRJOO"
      },
      "source": [
        "Como vimos acima, precisaremos extrair as informações de dentro da `struct` ***listing*** para trabalhar com essa base. As informações de endereço, por exemplo, podem ser extraídas com o comando `listing.address.*`:"
      ]
    },
    {
      "cell_type": "code",
      "execution_count": null,
      "metadata": {
        "id": "eCWBJ01jj-CA"
      },
      "outputs": [],
      "source": [
        "from pyspark.sql import functions as f"
      ]
    },
    {
      "cell_type": "code",
      "execution_count": null,
      "metadata": {
        "id": "0vai-k_9SELl"
      },
      "outputs": [],
      "source": [
        "raw = raw\\\n",
        "  .select('ident.customerID', 'listing.types.*', 'listing.features.*', 'listing.address.*', 'listing.prices.tax.condo', 'listing.prices.price')"
      ]
    },
    {
      "cell_type": "markdown",
      "metadata": {
        "id": "IZWwa7yBYyxF"
      },
      "source": [
        "Agora podemos analisar as colunas com mais facilidade"
      ]
    },
    {
      "cell_type": "code",
      "execution_count": null,
      "metadata": {
        "colab": {
          "base_uri": "https://localhost:8080/"
        },
        "id": "rMOTMoDdVcxW",
        "outputId": "2cb9f2f2-da34-439f-ccc6-ecc7028ab1f0"
      },
      "outputs": [
        {
          "output_type": "stream",
          "name": "stdout",
          "text": [
            "+---------------+-----------+-----------+---------+--------+------+-------------+------+----------+---------+---------------+-----------+--------------+------------------------+------------------------+----------+-----+-----+\n",
            "|customerID     |unit       |usage      |bathrooms|bedrooms|floors|parkingSpaces|suites|totalAreas|unitFloor|unitsOnTheFloor|usableAreas|city          |location                |neighborhood            |zone      |condo|price|\n",
            "+---------------+-----------+-----------+---------+--------+------+-------------+------+----------+---------+---------------+-----------+--------------+------------------------+------------------------+----------+-----+-----+\n",
            "|775564-BOJSMVON|Outros     |Residencial|0        |0       |0     |1            |0     |62        |0        |0              |62         |Rio de Janeiro|{-22.909429, -43.413557}|Taquara                 |Zona Oeste|150  |45000|\n",
            "|660895-AUENKNYY|Apartamento|Residencial|1        |2       |0     |1            |0     |0         |0        |0              |44         |Rio de Janeiro|{-22.869698, -43.509141}|Santíssimo              |Zona Oeste|120  |45000|\n",
            "|751522-JESYFEQL|Outros     |Residencial|0        |0       |0     |0            |0     |132       |0        |0              |132        |Rio de Janeiro|{-22.986927, -43.646786}|Pedra de Guaratiba      |Zona Oeste|100  |50000|\n",
            "|714052-GAAEWYKS|Outros     |Comercial  |1        |0       |0     |0            |0     |32        |3        |0              |32         |Rio de Janeiro|{-22.881977, -43.330818}|Cascadura               |Zona Norte|468  |45000|\n",
            "|568886-ZIBFOMCC|Apartamento|Residencial|2        |3       |3     |1            |1     |0         |2        |4              |60         |Rio de Janeiro|{-23.027653, -43.480742}|Recreio dos Bandeirantes|Zona Oeste|400  |50000|\n",
            "+---------------+-----------+-----------+---------+--------+------+-------------+------+----------+---------+---------------+-----------+--------------+------------------------+------------------------+----------+-----+-----+\n",
            "only showing top 5 rows\n",
            "\n"
          ]
        }
      ],
      "source": [
        "raw.show(5, truncate = False)"
      ]
    },
    {
      "cell_type": "code",
      "execution_count": null,
      "metadata": {
        "colab": {
          "base_uri": "https://localhost:8080/"
        },
        "id": "-o7IwTTiWLL3",
        "outputId": "ec2bfd13-300d-4e8c-8440-a5d6009f5a28"
      },
      "outputs": [
        {
          "output_type": "stream",
          "name": "stdout",
          "text": [
            "root\n",
            " |-- customerID: string (nullable = true)\n",
            " |-- unit: string (nullable = true)\n",
            " |-- usage: string (nullable = true)\n",
            " |-- bathrooms: long (nullable = true)\n",
            " |-- bedrooms: long (nullable = true)\n",
            " |-- floors: long (nullable = true)\n",
            " |-- parkingSpaces: long (nullable = true)\n",
            " |-- suites: long (nullable = true)\n",
            " |-- totalAreas: string (nullable = true)\n",
            " |-- unitFloor: long (nullable = true)\n",
            " |-- unitsOnTheFloor: long (nullable = true)\n",
            " |-- usableAreas: string (nullable = true)\n",
            " |-- city: string (nullable = true)\n",
            " |-- location: struct (nullable = true)\n",
            " |    |-- lat: double (nullable = true)\n",
            " |    |-- lon: double (nullable = true)\n",
            " |-- neighborhood: string (nullable = true)\n",
            " |-- zone: string (nullable = true)\n",
            " |-- condo: string (nullable = true)\n",
            " |-- price: string (nullable = true)\n",
            "\n"
          ]
        }
      ],
      "source": [
        "raw.printSchema()"
      ]
    },
    {
      "cell_type": "markdown",
      "metadata": {
        "id": "ZfEROvmKMvGq"
      },
      "source": [
        "## Limpeza"
      ]
    },
    {
      "cell_type": "markdown",
      "metadata": {
        "id": "DgTJm8isX-sV"
      },
      "source": [
        "Apenas o campo ***location*** que contem a latitude e longitude do imóvel ainda está como `struct`. Pensando na utilização final do modelo, não parece interessante exigir que o cliente forneça essa informação. Logo, podemos remover esse campo com o comando `drop`:  "
      ]
    },
    {
      "cell_type": "code",
      "execution_count": null,
      "metadata": {
        "id": "Zn9yl-gQX6iX"
      },
      "outputs": [],
      "source": [
        "raw  = raw.drop('location')"
      ]
    },
    {
      "cell_type": "markdown",
      "metadata": {
        "id": "7xFD851pbHk-"
      },
      "source": [
        "Somente 8 dos imóveis não são da cidade do Rio de Janeiro. Dado isso, podemos remover esse campo também:"
      ]
    },
    {
      "cell_type": "code",
      "execution_count": null,
      "metadata": {
        "colab": {
          "base_uri": "https://localhost:8080/"
        },
        "id": "uvzQno4VWb2i",
        "outputId": "defe4868-6d55-455f-fd4b-add937ec0531"
      },
      "outputs": [
        {
          "output_type": "stream",
          "name": "stdout",
          "text": [
            "+------------------+-----+\n",
            "|              city|count|\n",
            "+------------------+-----+\n",
            "|      Cachoeirinha|    1|\n",
            "|       São Gonçalo|    2|\n",
            "|         Queimados|    3|\n",
            "|São João de Meriti|    1|\n",
            "|    Rio de Janeiro|73607|\n",
            "|Armação dos Búzios|    1|\n",
            "+------------------+-----+\n",
            "\n"
          ]
        }
      ],
      "source": [
        "raw\\\n",
        "  .select('city')\\\n",
        "  .groupBy('city')\\\n",
        "  .count()\\\n",
        "  .show()"
      ]
    },
    {
      "cell_type": "code",
      "execution_count": null,
      "metadata": {
        "id": "qPA-2igZiWgG"
      },
      "outputs": [],
      "source": [
        "raw  = raw.drop('city')"
      ]
    },
    {
      "cell_type": "markdown",
      "metadata": {
        "id": "n73Z8EH8du4_"
      },
      "source": [
        "O campo ***neighborhood*** (vizinhança) possuí 158 categorias diferentes e o campo ***zone*** já fornece uma informação similar resumida em apenas 4 categorias (trataremos o valor faltante posteriormente). Optaremos então em utilizar somente a zona:"
      ]
    },
    {
      "cell_type": "code",
      "execution_count": null,
      "metadata": {
        "colab": {
          "base_uri": "https://localhost:8080/"
        },
        "id": "OiIhXux-XCGZ",
        "outputId": "1109719e-490d-43d1-fb39-4d0fe724b1ab"
      },
      "outputs": [
        {
          "output_type": "execute_result",
          "data": {
            "text/plain": [
              "158"
            ]
          },
          "metadata": {},
          "execution_count": 35
        }
      ],
      "source": [
        "raw\\\n",
        "  .select('neighborhood')\\\n",
        "  .distinct()\\\n",
        "  .count()"
      ]
    },
    {
      "cell_type": "code",
      "execution_count": null,
      "metadata": {
        "colab": {
          "base_uri": "https://localhost:8080/"
        },
        "id": "G5OFkAmvefWl",
        "outputId": "66548e3c-030c-4416-c34e-d772ef6e3f7f"
      },
      "outputs": [
        {
          "output_type": "stream",
          "name": "stdout",
          "text": [
            "+------------+-----+\n",
            "|        zone|count|\n",
            "+------------+-----+\n",
            "|  Zona Norte|15191|\n",
            "|  Zona Oeste|37116|\n",
            "|Zona Central| 1921|\n",
            "|    Zona Sul|19222|\n",
            "|            |  165|\n",
            "+------------+-----+\n",
            "\n"
          ]
        }
      ],
      "source": [
        "raw\\\n",
        "  .select('zone')\\\n",
        "  .groupBy('zone')\\\n",
        "  .count()\\\n",
        "  .show()"
      ]
    },
    {
      "cell_type": "code",
      "execution_count": null,
      "metadata": {
        "id": "g8i9JzzwdUx9"
      },
      "outputs": [],
      "source": [
        "raw  = raw.drop('neighborhood')"
      ]
    },
    {
      "cell_type": "markdown",
      "metadata": {
        "id": "hr1jTYJYgarN"
      },
      "source": [
        "O modelo será utilizado para clientes que buscam um imóvel para morar. No campo ***usage*** vemos que também temos imóveis comerciais nessa base. Podemos eliminar esses registros filtrando apenas os imóveis residenciais com o comando `where`:"
      ]
    },
    {
      "cell_type": "code",
      "execution_count": null,
      "metadata": {
        "colab": {
          "base_uri": "https://localhost:8080/"
        },
        "id": "eTT5FJDlW4_J",
        "outputId": "b91e1fd3-80f7-404b-994f-7be7f0dd6de3"
      },
      "outputs": [
        {
          "output_type": "stream",
          "name": "stdout",
          "text": [
            "+-----------+-----+\n",
            "|      usage|count|\n",
            "+-----------+-----+\n",
            "|  Comercial| 4019|\n",
            "|Residencial|69596|\n",
            "+-----------+-----+\n",
            "\n"
          ]
        }
      ],
      "source": [
        "raw\\\n",
        "  .select('usage')\\\n",
        "  .groupBy('usage')\\\n",
        "  .count()\\\n",
        "  .show()"
      ]
    },
    {
      "cell_type": "code",
      "execution_count": null,
      "metadata": {
        "id": "3FsmIegTgn_k"
      },
      "outputs": [],
      "source": [
        "raw = raw\\\n",
        "  .where(\"usage == 'Residencial'\")\\\n",
        "  .drop('usage')"
      ]
    },
    {
      "cell_type": "markdown",
      "metadata": {
        "id": "5VRVVgCzleH_"
      },
      "source": [
        "Similarmente, o campo ***unit*** possuí uma categoria \"Outros\" além de \"Apartamento\" e \"Casa\" para i tipo do imóvel. Manteremos na base apenas as duas últimas categorias:"
      ]
    },
    {
      "cell_type": "code",
      "execution_count": null,
      "metadata": {
        "colab": {
          "base_uri": "https://localhost:8080/"
        },
        "id": "qXzm7rWujI_J",
        "outputId": "5fecd6b6-0629-4857-d5fc-b56f1e68f432"
      },
      "outputs": [
        {
          "output_type": "stream",
          "name": "stdout",
          "text": [
            "+-----------+-----+\n",
            "|       unit|count|\n",
            "+-----------+-----+\n",
            "|     Outros| 1190|\n",
            "|Apartamento|59106|\n",
            "|       Casa| 9300|\n",
            "+-----------+-----+\n",
            "\n"
          ]
        }
      ],
      "source": [
        "raw\\\n",
        "  .select('unit')\\\n",
        "  .groupBy('unit')\\\n",
        "  .count()\\\n",
        "  .show()"
      ]
    },
    {
      "cell_type": "code",
      "execution_count": null,
      "metadata": {
        "id": "BVNBoIRamGEn"
      },
      "outputs": [],
      "source": [
        "raw = raw\\\n",
        "  .where(\"unit != 'Outros'\")"
      ]
    },
    {
      "cell_type": "markdown",
      "metadata": {
        "id": "6s0o1cN86FA4"
      },
      "source": [
        "## Dados faltantes"
      ]
    },
    {
      "cell_type": "markdown",
      "metadata": {
        "id": "Fy6y3UlVWJ--"
      },
      "source": [
        "Acima já identificamos que o campo ***zone*** possuí dados faltantes, mas outras informações também podem ter esse problema. Antes de fazer essa verificação, precisamos ajustar o tipo de algumas colunas. Os campos ***price***, ***condo***, ***iptu***, ***totalAreas*** e ***usableAreas*** estão como `string` mas são dados numéricos. Podemos converter esses dados aplicando a função `cast`:"
      ]
    },
    {
      "cell_type": "code",
      "execution_count": null,
      "metadata": {
        "id": "01AdJBGsMymg"
      },
      "outputs": [],
      "source": [
        "from pyspark.sql.types import DoubleType, StringType"
      ]
    },
    {
      "cell_type": "code",
      "execution_count": null,
      "metadata": {
        "id": "KbBkztsKMV3y"
      },
      "outputs": [],
      "source": [
        "raw = raw\\\n",
        "  .withColumn('usableAreas', raw['usableAreas'].cast(DoubleType()))\\\n",
        "  .withColumn('totalAreas', raw['totalAreas'].cast(DoubleType()))\\\n",
        "  .withColumn('price', raw['price'].cast(DoubleType()))\\\n",
        "  .withColumn('condo', raw['condo'].cast(DoubleType()))"
      ]
    },
    {
      "cell_type": "markdown",
      "metadata": {
        "id": "L1xq-K9Uocvx"
      },
      "source": [
        "Feito o ajuste dos tipos, podemos contar a quantidade de dados faltantes na colunas numéricas utilizando as funções `isnull` e `isnan`:"
      ]
    },
    {
      "cell_type": "code",
      "execution_count": null,
      "metadata": {
        "id": "33fG2E7ntvtN"
      },
      "outputs": [],
      "source": [
        "num = [f.name for f in raw.schema.fields if not isinstance(f.dataType, StringType)] #campos numéricos"
      ]
    },
    {
      "cell_type": "code",
      "execution_count": null,
      "metadata": {
        "colab": {
          "base_uri": "https://localhost:8080/"
        },
        "id": "dpc3IEHHScop",
        "outputId": "415a3885-a181-4bab-8b51-94469afd03df"
      },
      "outputs": [
        {
          "output_type": "stream",
          "name": "stdout",
          "text": [
            "+---------+--------+------+-------------+------+----------+---------+---------------+-----------+-----+-----+\n",
            "|bathrooms|bedrooms|floors|parkingSpaces|suites|totalAreas|unitFloor|unitsOnTheFloor|usableAreas|condo|price|\n",
            "+---------+--------+------+-------------+------+----------+---------+---------------+-----------+-----+-----+\n",
            "|        0|       0|     0|            0|     0|         0|        0|              0|          0| 5821|    0|\n",
            "+---------+--------+------+-------------+------+----------+---------+---------------+-----------+-----+-----+\n",
            "\n"
          ]
        }
      ],
      "source": [
        "raw\\\n",
        "  .select([f.count(f.when(f.isnull(c) | f.isnan(c), 1)).alias(c) for c in num])\\\n",
        "  .show()"
      ]
    },
    {
      "cell_type": "markdown",
      "metadata": {
        "id": "xlWSFK1ZrNi3"
      },
      "source": [
        "O campo ***condo*** apresentam valores faltantes. Para utilizar esses dados no modelo precisaremos imputá-los ou descartá-los na hora do ajuste. Outra verificação interessante é a contagem de valores zerados nos campos númericos:"
      ]
    },
    {
      "cell_type": "code",
      "execution_count": null,
      "metadata": {
        "colab": {
          "base_uri": "https://localhost:8080/"
        },
        "id": "-gFez3p6nik4",
        "outputId": "4cb72d66-0736-4b94-b89c-28e7cd41609d"
      },
      "outputs": [
        {
          "output_type": "stream",
          "name": "stdout",
          "text": [
            "+---------+--------+------+-------------+------+----------+---------+---------------+-----------+-----+-----+\n",
            "|bathrooms|bedrooms|floors|parkingSpaces|suites|totalAreas|unitFloor|unitsOnTheFloor|usableAreas|condo|price|\n",
            "+---------+--------+------+-------------+------+----------+---------+---------------+-----------+-----+-----+\n",
            "|        0|      40| 53534|        10478| 19701|      6357|    50651|          55421|          0| 5636|    0|\n",
            "+---------+--------+------+-------------+------+----------+---------+---------------+-----------+-----+-----+\n",
            "\n"
          ]
        }
      ],
      "source": [
        "raw\\\n",
        "  .select([f.count(f.when(f.col(c) == 0, 1)).alias(c) for c in num])\\\n",
        "  .show()"
      ]
    },
    {
      "cell_type": "markdown",
      "metadata": {
        "id": "jcSIBeJnszP_"
      },
      "source": [
        "Identificamos 40 imóveis sem quartos e também que os campos ***floors***, ***unitFloor*** e ***unitsOnTheFloor*** possuem mais de 70% dos valores iguais a zero. Manteremos na base os registros que possuírem pelo menos um quarto ou uma suíte e removeremos as colunas ***floors***, ***unitFloor*** e ***unitsOnTheFloor*** .\n",
        "\n"
      ]
    },
    {
      "cell_type": "code",
      "execution_count": null,
      "metadata": {
        "id": "NwHh9AgqtU70"
      },
      "outputs": [],
      "source": [
        "raw = raw\\\n",
        "  .where('bedrooms > 0 or suites > 0')\\\n",
        "  .drop('floors', 'unitFloor', 'unitsOnTheFloor', 'totalAreas')"
      ]
    },
    {
      "cell_type": "markdown",
      "metadata": {
        "id": "91N7cmGswzqN"
      },
      "source": [
        "Para os campos categóricos verificamos a presença de valores nulos ou vazios (`f.col(c) == ''`):"
      ]
    },
    {
      "cell_type": "code",
      "execution_count": null,
      "metadata": {
        "id": "jsuRKpvounIx"
      },
      "outputs": [],
      "source": [
        "cat = [f.name for f in raw.schema.fields if isinstance(f.dataType, StringType)] #campos categóricos"
      ]
    },
    {
      "cell_type": "code",
      "execution_count": null,
      "metadata": {
        "colab": {
          "base_uri": "https://localhost:8080/"
        },
        "id": "6LLVFBNTvtWY",
        "outputId": "32eba538-7a3e-4045-d986-d211861c85f3"
      },
      "outputs": [
        {
          "output_type": "stream",
          "name": "stdout",
          "text": [
            "+----------+----+----+\n",
            "|customerID|unit|zone|\n",
            "+----------+----+----+\n",
            "|         0|   0| 153|\n",
            "+----------+----+----+\n",
            "\n"
          ]
        }
      ],
      "source": [
        "raw\\\n",
        "  .select([f.count(f.when(f.isnull(c) | (f.col(c) == ''), 1)).alias(c) for c in cat])\\\n",
        "  .show()"
      ]
    },
    {
      "cell_type": "markdown",
      "metadata": {
        "id": "3ZWi9eoR0GGu"
      },
      "source": [
        "Identicamos então que os campos ***iptu***, ***condo*** e ***zone*** possuem dados faltantes. Dado que poucos imóveis estão sem zona, iremos eliminar esses registros:"
      ]
    },
    {
      "cell_type": "code",
      "execution_count": null,
      "metadata": {
        "id": "QTMGPBmzuqeC"
      },
      "outputs": [],
      "source": [
        "raw = raw.where(f.col('zone') != '')"
      ]
    },
    {
      "cell_type": "markdown",
      "metadata": {
        "id": "nFRxVMCdbBHj"
      },
      "source": [
        "terminada esta etapa, salvamos a basa de dados processada:"
      ]
    },
    {
      "cell_type": "code",
      "execution_count": null,
      "metadata": {
        "id": "gzlPhhDQduos"
      },
      "outputs": [],
      "source": [
        "raw = raw.withColumnRenamed('price', 'target')"
      ]
    },
    {
      "cell_type": "code",
      "execution_count": null,
      "metadata": {
        "id": "tfgGOe3ra6dj"
      },
      "outputs": [],
      "source": [
        "raw.write.parquet(path = './assets/processed')"
      ]
    },
    {
      "cell_type": "markdown",
      "metadata": {
        "id": "4K3s-E7_EjlP"
      },
      "source": [
        "# Construção do modelo"
      ]
    },
    {
      "cell_type": "markdown",
      "metadata": {
        "id": "h2rxB5B_MKZ6"
      },
      "source": [
        "## Pré-processamento dos dados"
      ]
    },
    {
      "cell_type": "code",
      "execution_count": null,
      "metadata": {
        "id": "3G_VtQWmc5Np"
      },
      "outputs": [],
      "source": [
        "processed = spark.read.parquet('./assets/processed')"
      ]
    },
    {
      "cell_type": "code",
      "execution_count": null,
      "metadata": {
        "colab": {
          "base_uri": "https://localhost:8080/"
        },
        "id": "JsHobQyAdQ6s",
        "outputId": "ff66dc17-3f3f-4dc5-f384-074f7de7ad70"
      },
      "outputs": [
        {
          "output_type": "stream",
          "name": "stdout",
          "text": [
            "+---------------+-----------+---------+--------+-------------+------+-----------+------------+-----+-------+\n",
            "|     customerID|       unit|bathrooms|bedrooms|parkingSpaces|suites|usableAreas|        zone|condo| target|\n",
            "+---------------+-----------+---------+--------+-------------+------+-----------+------------+-----+-------+\n",
            "|660895-AUENKNYY|Apartamento|        1|       2|            1|     0|       44.0|  Zona Oeste|120.0|45000.0|\n",
            "|568886-ZIBFOMCC|Apartamento|        2|       3|            1|     1|       60.0|  Zona Oeste|400.0|50000.0|\n",
            "|792086-NWNQTDYL|Apartamento|        1|       1|            1|     0|       33.0|  Zona Norte|  0.0|45336.0|\n",
            "|951104-MACIAPIS|Apartamento|        2|       3|            1|     1|       70.0|Zona Central|350.0|45000.0|\n",
            "|375665-GHMFEZXX|Apartamento|        2|       3|            1|     1|       70.0|Zona Central|350.0|50000.0|\n",
            "+---------------+-----------+---------+--------+-------------+------+-----------+------------+-----+-------+\n",
            "only showing top 5 rows\n",
            "\n"
          ]
        }
      ],
      "source": [
        "processed.show(5)"
      ]
    },
    {
      "cell_type": "code",
      "execution_count": null,
      "metadata": {
        "colab": {
          "base_uri": "https://localhost:8080/"
        },
        "id": "yItrek1ko3Up",
        "outputId": "920a1d1a-d8e7-447c-9a8b-84b2f6633b1d"
      },
      "outputs": [
        {
          "output_type": "stream",
          "name": "stdout",
          "text": [
            "root\n",
            " |-- customerID: string (nullable = true)\n",
            " |-- unit: string (nullable = true)\n",
            " |-- bathrooms: long (nullable = true)\n",
            " |-- bedrooms: long (nullable = true)\n",
            " |-- parkingSpaces: long (nullable = true)\n",
            " |-- suites: long (nullable = true)\n",
            " |-- usableAreas: double (nullable = true)\n",
            " |-- zone: string (nullable = true)\n",
            " |-- condo: double (nullable = true)\n",
            " |-- target: double (nullable = true)\n",
            "\n"
          ]
        }
      ],
      "source": [
        "processed.printSchema()"
      ]
    },
    {
      "cell_type": "markdown",
      "metadata": {
        "id": "3o4fF2-Cwsp3"
      },
      "source": [
        "### Imputação simples"
      ]
    },
    {
      "cell_type": "markdown",
      "metadata": {
        "id": "csZTGxtm1oYY"
      },
      "source": [
        "Para os campos númericos imputaremos os valores faltantes com a mediana por ser uma estatística mais robusta"
      ]
    },
    {
      "cell_type": "code",
      "execution_count": null,
      "metadata": {
        "id": "H3EHlNUH1lGj"
      },
      "outputs": [],
      "source": [
        "from pyspark.ml.feature import Imputer"
      ]
    },
    {
      "cell_type": "code",
      "execution_count": null,
      "metadata": {
        "id": "JIcX8oli1lGj"
      },
      "outputs": [],
      "source": [
        "cols = ['condo']\n",
        "imputer = Imputer(\n",
        "    inputCols = cols,\n",
        "    outputCols = ['{}_imputed'.format(a) for a in cols]\n",
        ").setStrategy('median')"
      ]
    },
    {
      "cell_type": "code",
      "execution_count": null,
      "metadata": {
        "id": "IBgDe7c-16mq"
      },
      "outputs": [],
      "source": [
        "imputed = imputer \\\n",
        "          .fit(processed)\\\n",
        "          .transform(processed)\\\n",
        "          .drop(*cols)"
      ]
    },
    {
      "cell_type": "code",
      "execution_count": null,
      "metadata": {
        "id": "LLbuZr0A26CJ"
      },
      "outputs": [],
      "source": [
        "num = [f.name for f in imputed.schema.fields if not isinstance(f.dataType, StringType)] #campos numéricos\n",
        "\n",
        "cat = [f.name for f in imputed.schema.fields if isinstance(f.dataType, StringType)] #campos categóricos\n",
        "cat.remove('customerID')"
      ]
    },
    {
      "cell_type": "markdown",
      "metadata": {
        "id": "kFAKyG-SxFdk"
      },
      "source": [
        "### Transformação logarítmica"
      ]
    },
    {
      "cell_type": "markdown",
      "metadata": {
        "id": "kjntQXK5J9zZ"
      },
      "source": [
        "A tabela abaixo mostra as estatísticas de resumo dos campos numéricos:"
      ]
    },
    {
      "cell_type": "code",
      "execution_count": null,
      "metadata": {
        "colab": {
          "base_uri": "https://localhost:8080/"
        },
        "id": "r5Zf9Zbw4Txg",
        "outputId": "b12c35a6-c6bd-4889-8675-dde1d30dedcf"
      },
      "outputs": [
        {
          "output_type": "execute_result",
          "data": {
            "text/plain": [
              "  summary          bathrooms           bedrooms       parkingSpaces  \\\n",
              "0     min                  1                  0                   0   \n",
              "1    mean  2.451725452253203  2.724733925587123  1.4407306418037353   \n",
              "2     max                 22                 30                 144   \n",
              "\n",
              "               suites         usableAreas              target  \\\n",
              "0                   0                10.0             45000.0   \n",
              "1  1.1460990412525287  139.19273169730553  1240157.4305860966   \n",
              "2                  13              1911.0               1.0E7   \n",
              "\n",
              "       condo_imputed  \n",
              "0                0.0  \n",
              "1  3402.438590318703  \n",
              "2          9900000.0  "
            ],
            "text/html": [
              "\n",
              "  <div id=\"df-c609698f-7f41-4dbb-915b-be3a6f9924f0\" class=\"colab-df-container\">\n",
              "    <div>\n",
              "<style scoped>\n",
              "    .dataframe tbody tr th:only-of-type {\n",
              "        vertical-align: middle;\n",
              "    }\n",
              "\n",
              "    .dataframe tbody tr th {\n",
              "        vertical-align: top;\n",
              "    }\n",
              "\n",
              "    .dataframe thead th {\n",
              "        text-align: right;\n",
              "    }\n",
              "</style>\n",
              "<table border=\"1\" class=\"dataframe\">\n",
              "  <thead>\n",
              "    <tr style=\"text-align: right;\">\n",
              "      <th></th>\n",
              "      <th>summary</th>\n",
              "      <th>bathrooms</th>\n",
              "      <th>bedrooms</th>\n",
              "      <th>parkingSpaces</th>\n",
              "      <th>suites</th>\n",
              "      <th>usableAreas</th>\n",
              "      <th>target</th>\n",
              "      <th>condo_imputed</th>\n",
              "    </tr>\n",
              "  </thead>\n",
              "  <tbody>\n",
              "    <tr>\n",
              "      <th>0</th>\n",
              "      <td>min</td>\n",
              "      <td>1</td>\n",
              "      <td>0</td>\n",
              "      <td>0</td>\n",
              "      <td>0</td>\n",
              "      <td>10.0</td>\n",
              "      <td>45000.0</td>\n",
              "      <td>0.0</td>\n",
              "    </tr>\n",
              "    <tr>\n",
              "      <th>1</th>\n",
              "      <td>mean</td>\n",
              "      <td>2.451725452253203</td>\n",
              "      <td>2.724733925587123</td>\n",
              "      <td>1.4407306418037353</td>\n",
              "      <td>1.1460990412525287</td>\n",
              "      <td>139.19273169730553</td>\n",
              "      <td>1240157.4305860966</td>\n",
              "      <td>3402.438590318703</td>\n",
              "    </tr>\n",
              "    <tr>\n",
              "      <th>2</th>\n",
              "      <td>max</td>\n",
              "      <td>22</td>\n",
              "      <td>30</td>\n",
              "      <td>144</td>\n",
              "      <td>13</td>\n",
              "      <td>1911.0</td>\n",
              "      <td>1.0E7</td>\n",
              "      <td>9900000.0</td>\n",
              "    </tr>\n",
              "  </tbody>\n",
              "</table>\n",
              "</div>\n",
              "    <div class=\"colab-df-buttons\">\n",
              "\n",
              "  <div class=\"colab-df-container\">\n",
              "    <button class=\"colab-df-convert\" onclick=\"convertToInteractive('df-c609698f-7f41-4dbb-915b-be3a6f9924f0')\"\n",
              "            title=\"Convert this dataframe to an interactive table.\"\n",
              "            style=\"display:none;\">\n",
              "\n",
              "  <svg xmlns=\"http://www.w3.org/2000/svg\" height=\"24px\" viewBox=\"0 -960 960 960\">\n",
              "    <path d=\"M120-120v-720h720v720H120Zm60-500h600v-160H180v160Zm220 220h160v-160H400v160Zm0 220h160v-160H400v160ZM180-400h160v-160H180v160Zm440 0h160v-160H620v160ZM180-180h160v-160H180v160Zm440 0h160v-160H620v160Z\"/>\n",
              "  </svg>\n",
              "    </button>\n",
              "\n",
              "  <style>\n",
              "    .colab-df-container {\n",
              "      display:flex;\n",
              "      gap: 12px;\n",
              "    }\n",
              "\n",
              "    .colab-df-convert {\n",
              "      background-color: #E8F0FE;\n",
              "      border: none;\n",
              "      border-radius: 50%;\n",
              "      cursor: pointer;\n",
              "      display: none;\n",
              "      fill: #1967D2;\n",
              "      height: 32px;\n",
              "      padding: 0 0 0 0;\n",
              "      width: 32px;\n",
              "    }\n",
              "\n",
              "    .colab-df-convert:hover {\n",
              "      background-color: #E2EBFA;\n",
              "      box-shadow: 0px 1px 2px rgba(60, 64, 67, 0.3), 0px 1px 3px 1px rgba(60, 64, 67, 0.15);\n",
              "      fill: #174EA6;\n",
              "    }\n",
              "\n",
              "    .colab-df-buttons div {\n",
              "      margin-bottom: 4px;\n",
              "    }\n",
              "\n",
              "    [theme=dark] .colab-df-convert {\n",
              "      background-color: #3B4455;\n",
              "      fill: #D2E3FC;\n",
              "    }\n",
              "\n",
              "    [theme=dark] .colab-df-convert:hover {\n",
              "      background-color: #434B5C;\n",
              "      box-shadow: 0px 1px 3px 1px rgba(0, 0, 0, 0.15);\n",
              "      filter: drop-shadow(0px 1px 2px rgba(0, 0, 0, 0.3));\n",
              "      fill: #FFFFFF;\n",
              "    }\n",
              "  </style>\n",
              "\n",
              "    <script>\n",
              "      const buttonEl =\n",
              "        document.querySelector('#df-c609698f-7f41-4dbb-915b-be3a6f9924f0 button.colab-df-convert');\n",
              "      buttonEl.style.display =\n",
              "        google.colab.kernel.accessAllowed ? 'block' : 'none';\n",
              "\n",
              "      async function convertToInteractive(key) {\n",
              "        const element = document.querySelector('#df-c609698f-7f41-4dbb-915b-be3a6f9924f0');\n",
              "        const dataTable =\n",
              "          await google.colab.kernel.invokeFunction('convertToInteractive',\n",
              "                                                    [key], {});\n",
              "        if (!dataTable) return;\n",
              "\n",
              "        const docLinkHtml = 'Like what you see? Visit the ' +\n",
              "          '<a target=\"_blank\" href=https://colab.research.google.com/notebooks/data_table.ipynb>data table notebook</a>'\n",
              "          + ' to learn more about interactive tables.';\n",
              "        element.innerHTML = '';\n",
              "        dataTable['output_type'] = 'display_data';\n",
              "        await google.colab.output.renderOutput(dataTable, element);\n",
              "        const docLink = document.createElement('div');\n",
              "        docLink.innerHTML = docLinkHtml;\n",
              "        element.appendChild(docLink);\n",
              "      }\n",
              "    </script>\n",
              "  </div>\n",
              "\n",
              "\n",
              "<div id=\"df-2c08e10b-a763-4d12-b4be-ca7e0ed219f2\">\n",
              "  <button class=\"colab-df-quickchart\" onclick=\"quickchart('df-2c08e10b-a763-4d12-b4be-ca7e0ed219f2')\"\n",
              "            title=\"Suggest charts\"\n",
              "            style=\"display:none;\">\n",
              "\n",
              "<svg xmlns=\"http://www.w3.org/2000/svg\" height=\"24px\"viewBox=\"0 0 24 24\"\n",
              "     width=\"24px\">\n",
              "    <g>\n",
              "        <path d=\"M19 3H5c-1.1 0-2 .9-2 2v14c0 1.1.9 2 2 2h14c1.1 0 2-.9 2-2V5c0-1.1-.9-2-2-2zM9 17H7v-7h2v7zm4 0h-2V7h2v10zm4 0h-2v-4h2v4z\"/>\n",
              "    </g>\n",
              "</svg>\n",
              "  </button>\n",
              "\n",
              "<style>\n",
              "  .colab-df-quickchart {\n",
              "      --bg-color: #E8F0FE;\n",
              "      --fill-color: #1967D2;\n",
              "      --hover-bg-color: #E2EBFA;\n",
              "      --hover-fill-color: #174EA6;\n",
              "      --disabled-fill-color: #AAA;\n",
              "      --disabled-bg-color: #DDD;\n",
              "  }\n",
              "\n",
              "  [theme=dark] .colab-df-quickchart {\n",
              "      --bg-color: #3B4455;\n",
              "      --fill-color: #D2E3FC;\n",
              "      --hover-bg-color: #434B5C;\n",
              "      --hover-fill-color: #FFFFFF;\n",
              "      --disabled-bg-color: #3B4455;\n",
              "      --disabled-fill-color: #666;\n",
              "  }\n",
              "\n",
              "  .colab-df-quickchart {\n",
              "    background-color: var(--bg-color);\n",
              "    border: none;\n",
              "    border-radius: 50%;\n",
              "    cursor: pointer;\n",
              "    display: none;\n",
              "    fill: var(--fill-color);\n",
              "    height: 32px;\n",
              "    padding: 0;\n",
              "    width: 32px;\n",
              "  }\n",
              "\n",
              "  .colab-df-quickchart:hover {\n",
              "    background-color: var(--hover-bg-color);\n",
              "    box-shadow: 0 1px 2px rgba(60, 64, 67, 0.3), 0 1px 3px 1px rgba(60, 64, 67, 0.15);\n",
              "    fill: var(--button-hover-fill-color);\n",
              "  }\n",
              "\n",
              "  .colab-df-quickchart-complete:disabled,\n",
              "  .colab-df-quickchart-complete:disabled:hover {\n",
              "    background-color: var(--disabled-bg-color);\n",
              "    fill: var(--disabled-fill-color);\n",
              "    box-shadow: none;\n",
              "  }\n",
              "\n",
              "  .colab-df-spinner {\n",
              "    border: 2px solid var(--fill-color);\n",
              "    border-color: transparent;\n",
              "    border-bottom-color: var(--fill-color);\n",
              "    animation:\n",
              "      spin 1s steps(1) infinite;\n",
              "  }\n",
              "\n",
              "  @keyframes spin {\n",
              "    0% {\n",
              "      border-color: transparent;\n",
              "      border-bottom-color: var(--fill-color);\n",
              "      border-left-color: var(--fill-color);\n",
              "    }\n",
              "    20% {\n",
              "      border-color: transparent;\n",
              "      border-left-color: var(--fill-color);\n",
              "      border-top-color: var(--fill-color);\n",
              "    }\n",
              "    30% {\n",
              "      border-color: transparent;\n",
              "      border-left-color: var(--fill-color);\n",
              "      border-top-color: var(--fill-color);\n",
              "      border-right-color: var(--fill-color);\n",
              "    }\n",
              "    40% {\n",
              "      border-color: transparent;\n",
              "      border-right-color: var(--fill-color);\n",
              "      border-top-color: var(--fill-color);\n",
              "    }\n",
              "    60% {\n",
              "      border-color: transparent;\n",
              "      border-right-color: var(--fill-color);\n",
              "    }\n",
              "    80% {\n",
              "      border-color: transparent;\n",
              "      border-right-color: var(--fill-color);\n",
              "      border-bottom-color: var(--fill-color);\n",
              "    }\n",
              "    90% {\n",
              "      border-color: transparent;\n",
              "      border-bottom-color: var(--fill-color);\n",
              "    }\n",
              "  }\n",
              "</style>\n",
              "\n",
              "  <script>\n",
              "    async function quickchart(key) {\n",
              "      const quickchartButtonEl =\n",
              "        document.querySelector('#' + key + ' button');\n",
              "      quickchartButtonEl.disabled = true;  // To prevent multiple clicks.\n",
              "      quickchartButtonEl.classList.add('colab-df-spinner');\n",
              "      try {\n",
              "        const charts = await google.colab.kernel.invokeFunction(\n",
              "            'suggestCharts', [key], {});\n",
              "      } catch (error) {\n",
              "        console.error('Error during call to suggestCharts:', error);\n",
              "      }\n",
              "      quickchartButtonEl.classList.remove('colab-df-spinner');\n",
              "      quickchartButtonEl.classList.add('colab-df-quickchart-complete');\n",
              "    }\n",
              "    (() => {\n",
              "      let quickchartButtonEl =\n",
              "        document.querySelector('#df-2c08e10b-a763-4d12-b4be-ca7e0ed219f2 button');\n",
              "      quickchartButtonEl.style.display =\n",
              "        google.colab.kernel.accessAllowed ? 'block' : 'none';\n",
              "    })();\n",
              "  </script>\n",
              "</div>\n",
              "\n",
              "    </div>\n",
              "  </div>\n"
            ],
            "application/vnd.google.colaboratory.intrinsic+json": {
              "type": "dataframe",
              "summary": "{\n  \"name\": \"  \",\n  \"rows\": 3,\n  \"fields\": [\n    {\n      \"column\": \"summary\",\n      \"properties\": {\n        \"dtype\": \"string\",\n        \"num_unique_values\": 3,\n        \"samples\": [\n          \"min\",\n          \"mean\",\n          \"max\"\n        ],\n        \"semantic_type\": \"\",\n        \"description\": \"\"\n      }\n    },\n    {\n      \"column\": \"bathrooms\",\n      \"properties\": {\n        \"dtype\": \"string\",\n        \"num_unique_values\": 3,\n        \"samples\": [\n          \"1\",\n          \"2.451725452253203\",\n          \"22\"\n        ],\n        \"semantic_type\": \"\",\n        \"description\": \"\"\n      }\n    },\n    {\n      \"column\": \"bedrooms\",\n      \"properties\": {\n        \"dtype\": \"string\",\n        \"num_unique_values\": 3,\n        \"samples\": [\n          \"0\",\n          \"2.724733925587123\",\n          \"30\"\n        ],\n        \"semantic_type\": \"\",\n        \"description\": \"\"\n      }\n    },\n    {\n      \"column\": \"parkingSpaces\",\n      \"properties\": {\n        \"dtype\": \"string\",\n        \"num_unique_values\": 3,\n        \"samples\": [\n          \"0\",\n          \"1.4407306418037353\",\n          \"144\"\n        ],\n        \"semantic_type\": \"\",\n        \"description\": \"\"\n      }\n    },\n    {\n      \"column\": \"suites\",\n      \"properties\": {\n        \"dtype\": \"string\",\n        \"num_unique_values\": 3,\n        \"samples\": [\n          \"0\",\n          \"1.1460990412525287\",\n          \"13\"\n        ],\n        \"semantic_type\": \"\",\n        \"description\": \"\"\n      }\n    },\n    {\n      \"column\": \"usableAreas\",\n      \"properties\": {\n        \"dtype\": \"string\",\n        \"num_unique_values\": 3,\n        \"samples\": [\n          \"10.0\",\n          \"139.19273169730553\",\n          \"1911.0\"\n        ],\n        \"semantic_type\": \"\",\n        \"description\": \"\"\n      }\n    },\n    {\n      \"column\": \"target\",\n      \"properties\": {\n        \"dtype\": \"string\",\n        \"num_unique_values\": 3,\n        \"samples\": [\n          \"45000.0\",\n          \"1240157.4305860966\",\n          \"1.0E7\"\n        ],\n        \"semantic_type\": \"\",\n        \"description\": \"\"\n      }\n    },\n    {\n      \"column\": \"condo_imputed\",\n      \"properties\": {\n        \"dtype\": \"string\",\n        \"num_unique_values\": 3,\n        \"samples\": [\n          \"0.0\",\n          \"3402.438590318703\",\n          \"9900000.0\"\n        ],\n        \"semantic_type\": \"\",\n        \"description\": \"\"\n      }\n    }\n  ]\n}"
            }
          },
          "metadata": {},
          "execution_count": 60
        }
      ],
      "source": [
        "imputed\\\n",
        "  .select(*num)\\\n",
        "  .summary('min', 'mean', 'max')\\\n",
        "  .toPandas()"
      ]
    },
    {
      "cell_type": "markdown",
      "metadata": {
        "id": "J_EuWRZ46qU3"
      },
      "source": [
        "Esses campos apresentam assimetria a direta (i.e. possuem valores muito superiores a média). Temos, por exemplo, um condomínio de R\\$ 9,9 milhões quando a média é R\\$ 3402,44. Há casos inclusive em que o valor do condomínio é superior ao valor do imóvel:"
      ]
    },
    {
      "cell_type": "code",
      "execution_count": null,
      "metadata": {
        "colab": {
          "base_uri": "https://localhost:8080/"
        },
        "id": "kB7CdG9jzCOz",
        "outputId": "8246adfa-1358-4be0-f682-bb80e6fc13bd"
      },
      "outputs": [
        {
          "output_type": "stream",
          "name": "stdout",
          "text": [
            "+---------------+-----------+---------+--------+-------------+------+-----------+----------+--------+-------------+\n",
            "|     customerID|       unit|bathrooms|bedrooms|parkingSpaces|suites|usableAreas|      zone|  target|condo_imputed|\n",
            "+---------------+-----------+---------+--------+-------------+------+-----------+----------+--------+-------------+\n",
            "|557028-JWYITRUF|Apartamento|        1|       2|            1|     1|       43.0|Zona Oeste|120000.0|     260000.0|\n",
            "|002068-FPTMQOYX|Apartamento|        1|       2|            1|     0|       55.0|Zona Norte|130000.0|     320000.0|\n",
            "|500202-FYBDZFBP|Apartamento|        1|       2|            1|     0|       60.0|Zona Oeste|158000.0|     320000.0|\n",
            "|151777-KDMYFGJE|Apartamento|        1|       1|            1|     0|       36.0|Zona Oeste|170000.0|     390000.0|\n",
            "|406414-PYQFKQZT|Apartamento|        1|       1|            1|     0|       45.0|Zona Norte|179000.0|     416000.0|\n",
            "+---------------+-----------+---------+--------+-------------+------+-----------+----------+--------+-------------+\n",
            "only showing top 5 rows\n",
            "\n"
          ]
        }
      ],
      "source": [
        "imputed\\\n",
        "  .where('condo_imputed > target')\\\n",
        "  .show(5)"
      ]
    },
    {
      "cell_type": "markdown",
      "metadata": {
        "id": "14mIiAdfC3OS"
      },
      "source": [
        "Vamos assumir aqui que o público alvo da aplicação final tem interesse em imóveis de até 2 milhões e condomínio máximo de 10 mil. Fazendo isso controlaremos o efeito negativo de campos com valores muito distantes da média:"
      ]
    },
    {
      "cell_type": "code",
      "execution_count": null,
      "metadata": {
        "colab": {
          "base_uri": "https://localhost:8080/"
        },
        "id": "Jf6G9DGCB6sk",
        "outputId": "69285cc3-90d1-4adc-9fdc-4917c0962306"
      },
      "outputs": [
        {
          "output_type": "execute_result",
          "data": {
            "text/plain": [
              "57095"
            ]
          },
          "metadata": {},
          "execution_count": 62
        }
      ],
      "source": [
        "imputed\\\n",
        "  .where('target <= 2000000 and condo_imputed <= 10000 and condo_imputed < target')\\\n",
        "  .count()"
      ]
    },
    {
      "cell_type": "code",
      "execution_count": null,
      "metadata": {
        "id": "Wjma9ycrD0Rd"
      },
      "outputs": [],
      "source": [
        "imputed = imputed\\\n",
        "  .where('target <= 2000000 and condo_imputed <= 10000 and condo_imputed < target')"
      ]
    },
    {
      "cell_type": "code",
      "execution_count": null,
      "metadata": {
        "colab": {
          "base_uri": "https://localhost:8080/"
        },
        "id": "CzJWxHBsziFH",
        "outputId": "18888c04-1acd-4661-c270-a58204a7f2ab"
      },
      "outputs": [
        {
          "output_type": "execute_result",
          "data": {
            "text/plain": [
              "  summary          bathrooms           bedrooms      parkingSpaces  \\\n",
              "0     min                  1                  0                  0   \n",
              "1    mean  2.138365881425694  2.509554251685787  1.206515456694982   \n",
              "2     max                 20                 30                144   \n",
              "\n",
              "               suites        usableAreas            target      condo_imputed  \n",
              "0                   0               10.0           45000.0                0.0  \n",
              "1  0.8886242227865838  104.5622558893073  742033.417917506  792.5891934495139  \n",
              "2                  13             1650.0         2000000.0             8630.0  "
            ],
            "text/html": [
              "\n",
              "  <div id=\"df-203413ec-d1b8-4301-9864-4bbd95032c7e\" class=\"colab-df-container\">\n",
              "    <div>\n",
              "<style scoped>\n",
              "    .dataframe tbody tr th:only-of-type {\n",
              "        vertical-align: middle;\n",
              "    }\n",
              "\n",
              "    .dataframe tbody tr th {\n",
              "        vertical-align: top;\n",
              "    }\n",
              "\n",
              "    .dataframe thead th {\n",
              "        text-align: right;\n",
              "    }\n",
              "</style>\n",
              "<table border=\"1\" class=\"dataframe\">\n",
              "  <thead>\n",
              "    <tr style=\"text-align: right;\">\n",
              "      <th></th>\n",
              "      <th>summary</th>\n",
              "      <th>bathrooms</th>\n",
              "      <th>bedrooms</th>\n",
              "      <th>parkingSpaces</th>\n",
              "      <th>suites</th>\n",
              "      <th>usableAreas</th>\n",
              "      <th>target</th>\n",
              "      <th>condo_imputed</th>\n",
              "    </tr>\n",
              "  </thead>\n",
              "  <tbody>\n",
              "    <tr>\n",
              "      <th>0</th>\n",
              "      <td>min</td>\n",
              "      <td>1</td>\n",
              "      <td>0</td>\n",
              "      <td>0</td>\n",
              "      <td>0</td>\n",
              "      <td>10.0</td>\n",
              "      <td>45000.0</td>\n",
              "      <td>0.0</td>\n",
              "    </tr>\n",
              "    <tr>\n",
              "      <th>1</th>\n",
              "      <td>mean</td>\n",
              "      <td>2.138365881425694</td>\n",
              "      <td>2.509554251685787</td>\n",
              "      <td>1.206515456694982</td>\n",
              "      <td>0.8886242227865838</td>\n",
              "      <td>104.5622558893073</td>\n",
              "      <td>742033.417917506</td>\n",
              "      <td>792.5891934495139</td>\n",
              "    </tr>\n",
              "    <tr>\n",
              "      <th>2</th>\n",
              "      <td>max</td>\n",
              "      <td>20</td>\n",
              "      <td>30</td>\n",
              "      <td>144</td>\n",
              "      <td>13</td>\n",
              "      <td>1650.0</td>\n",
              "      <td>2000000.0</td>\n",
              "      <td>8630.0</td>\n",
              "    </tr>\n",
              "  </tbody>\n",
              "</table>\n",
              "</div>\n",
              "    <div class=\"colab-df-buttons\">\n",
              "\n",
              "  <div class=\"colab-df-container\">\n",
              "    <button class=\"colab-df-convert\" onclick=\"convertToInteractive('df-203413ec-d1b8-4301-9864-4bbd95032c7e')\"\n",
              "            title=\"Convert this dataframe to an interactive table.\"\n",
              "            style=\"display:none;\">\n",
              "\n",
              "  <svg xmlns=\"http://www.w3.org/2000/svg\" height=\"24px\" viewBox=\"0 -960 960 960\">\n",
              "    <path d=\"M120-120v-720h720v720H120Zm60-500h600v-160H180v160Zm220 220h160v-160H400v160Zm0 220h160v-160H400v160ZM180-400h160v-160H180v160Zm440 0h160v-160H620v160ZM180-180h160v-160H180v160Zm440 0h160v-160H620v160Z\"/>\n",
              "  </svg>\n",
              "    </button>\n",
              "\n",
              "  <style>\n",
              "    .colab-df-container {\n",
              "      display:flex;\n",
              "      gap: 12px;\n",
              "    }\n",
              "\n",
              "    .colab-df-convert {\n",
              "      background-color: #E8F0FE;\n",
              "      border: none;\n",
              "      border-radius: 50%;\n",
              "      cursor: pointer;\n",
              "      display: none;\n",
              "      fill: #1967D2;\n",
              "      height: 32px;\n",
              "      padding: 0 0 0 0;\n",
              "      width: 32px;\n",
              "    }\n",
              "\n",
              "    .colab-df-convert:hover {\n",
              "      background-color: #E2EBFA;\n",
              "      box-shadow: 0px 1px 2px rgba(60, 64, 67, 0.3), 0px 1px 3px 1px rgba(60, 64, 67, 0.15);\n",
              "      fill: #174EA6;\n",
              "    }\n",
              "\n",
              "    .colab-df-buttons div {\n",
              "      margin-bottom: 4px;\n",
              "    }\n",
              "\n",
              "    [theme=dark] .colab-df-convert {\n",
              "      background-color: #3B4455;\n",
              "      fill: #D2E3FC;\n",
              "    }\n",
              "\n",
              "    [theme=dark] .colab-df-convert:hover {\n",
              "      background-color: #434B5C;\n",
              "      box-shadow: 0px 1px 3px 1px rgba(0, 0, 0, 0.15);\n",
              "      filter: drop-shadow(0px 1px 2px rgba(0, 0, 0, 0.3));\n",
              "      fill: #FFFFFF;\n",
              "    }\n",
              "  </style>\n",
              "\n",
              "    <script>\n",
              "      const buttonEl =\n",
              "        document.querySelector('#df-203413ec-d1b8-4301-9864-4bbd95032c7e button.colab-df-convert');\n",
              "      buttonEl.style.display =\n",
              "        google.colab.kernel.accessAllowed ? 'block' : 'none';\n",
              "\n",
              "      async function convertToInteractive(key) {\n",
              "        const element = document.querySelector('#df-203413ec-d1b8-4301-9864-4bbd95032c7e');\n",
              "        const dataTable =\n",
              "          await google.colab.kernel.invokeFunction('convertToInteractive',\n",
              "                                                    [key], {});\n",
              "        if (!dataTable) return;\n",
              "\n",
              "        const docLinkHtml = 'Like what you see? Visit the ' +\n",
              "          '<a target=\"_blank\" href=https://colab.research.google.com/notebooks/data_table.ipynb>data table notebook</a>'\n",
              "          + ' to learn more about interactive tables.';\n",
              "        element.innerHTML = '';\n",
              "        dataTable['output_type'] = 'display_data';\n",
              "        await google.colab.output.renderOutput(dataTable, element);\n",
              "        const docLink = document.createElement('div');\n",
              "        docLink.innerHTML = docLinkHtml;\n",
              "        element.appendChild(docLink);\n",
              "      }\n",
              "    </script>\n",
              "  </div>\n",
              "\n",
              "\n",
              "<div id=\"df-f0b5e259-7beb-4b8a-8a68-535e0aa2d991\">\n",
              "  <button class=\"colab-df-quickchart\" onclick=\"quickchart('df-f0b5e259-7beb-4b8a-8a68-535e0aa2d991')\"\n",
              "            title=\"Suggest charts\"\n",
              "            style=\"display:none;\">\n",
              "\n",
              "<svg xmlns=\"http://www.w3.org/2000/svg\" height=\"24px\"viewBox=\"0 0 24 24\"\n",
              "     width=\"24px\">\n",
              "    <g>\n",
              "        <path d=\"M19 3H5c-1.1 0-2 .9-2 2v14c0 1.1.9 2 2 2h14c1.1 0 2-.9 2-2V5c0-1.1-.9-2-2-2zM9 17H7v-7h2v7zm4 0h-2V7h2v10zm4 0h-2v-4h2v4z\"/>\n",
              "    </g>\n",
              "</svg>\n",
              "  </button>\n",
              "\n",
              "<style>\n",
              "  .colab-df-quickchart {\n",
              "      --bg-color: #E8F0FE;\n",
              "      --fill-color: #1967D2;\n",
              "      --hover-bg-color: #E2EBFA;\n",
              "      --hover-fill-color: #174EA6;\n",
              "      --disabled-fill-color: #AAA;\n",
              "      --disabled-bg-color: #DDD;\n",
              "  }\n",
              "\n",
              "  [theme=dark] .colab-df-quickchart {\n",
              "      --bg-color: #3B4455;\n",
              "      --fill-color: #D2E3FC;\n",
              "      --hover-bg-color: #434B5C;\n",
              "      --hover-fill-color: #FFFFFF;\n",
              "      --disabled-bg-color: #3B4455;\n",
              "      --disabled-fill-color: #666;\n",
              "  }\n",
              "\n",
              "  .colab-df-quickchart {\n",
              "    background-color: var(--bg-color);\n",
              "    border: none;\n",
              "    border-radius: 50%;\n",
              "    cursor: pointer;\n",
              "    display: none;\n",
              "    fill: var(--fill-color);\n",
              "    height: 32px;\n",
              "    padding: 0;\n",
              "    width: 32px;\n",
              "  }\n",
              "\n",
              "  .colab-df-quickchart:hover {\n",
              "    background-color: var(--hover-bg-color);\n",
              "    box-shadow: 0 1px 2px rgba(60, 64, 67, 0.3), 0 1px 3px 1px rgba(60, 64, 67, 0.15);\n",
              "    fill: var(--button-hover-fill-color);\n",
              "  }\n",
              "\n",
              "  .colab-df-quickchart-complete:disabled,\n",
              "  .colab-df-quickchart-complete:disabled:hover {\n",
              "    background-color: var(--disabled-bg-color);\n",
              "    fill: var(--disabled-fill-color);\n",
              "    box-shadow: none;\n",
              "  }\n",
              "\n",
              "  .colab-df-spinner {\n",
              "    border: 2px solid var(--fill-color);\n",
              "    border-color: transparent;\n",
              "    border-bottom-color: var(--fill-color);\n",
              "    animation:\n",
              "      spin 1s steps(1) infinite;\n",
              "  }\n",
              "\n",
              "  @keyframes spin {\n",
              "    0% {\n",
              "      border-color: transparent;\n",
              "      border-bottom-color: var(--fill-color);\n",
              "      border-left-color: var(--fill-color);\n",
              "    }\n",
              "    20% {\n",
              "      border-color: transparent;\n",
              "      border-left-color: var(--fill-color);\n",
              "      border-top-color: var(--fill-color);\n",
              "    }\n",
              "    30% {\n",
              "      border-color: transparent;\n",
              "      border-left-color: var(--fill-color);\n",
              "      border-top-color: var(--fill-color);\n",
              "      border-right-color: var(--fill-color);\n",
              "    }\n",
              "    40% {\n",
              "      border-color: transparent;\n",
              "      border-right-color: var(--fill-color);\n",
              "      border-top-color: var(--fill-color);\n",
              "    }\n",
              "    60% {\n",
              "      border-color: transparent;\n",
              "      border-right-color: var(--fill-color);\n",
              "    }\n",
              "    80% {\n",
              "      border-color: transparent;\n",
              "      border-right-color: var(--fill-color);\n",
              "      border-bottom-color: var(--fill-color);\n",
              "    }\n",
              "    90% {\n",
              "      border-color: transparent;\n",
              "      border-bottom-color: var(--fill-color);\n",
              "    }\n",
              "  }\n",
              "</style>\n",
              "\n",
              "  <script>\n",
              "    async function quickchart(key) {\n",
              "      const quickchartButtonEl =\n",
              "        document.querySelector('#' + key + ' button');\n",
              "      quickchartButtonEl.disabled = true;  // To prevent multiple clicks.\n",
              "      quickchartButtonEl.classList.add('colab-df-spinner');\n",
              "      try {\n",
              "        const charts = await google.colab.kernel.invokeFunction(\n",
              "            'suggestCharts', [key], {});\n",
              "      } catch (error) {\n",
              "        console.error('Error during call to suggestCharts:', error);\n",
              "      }\n",
              "      quickchartButtonEl.classList.remove('colab-df-spinner');\n",
              "      quickchartButtonEl.classList.add('colab-df-quickchart-complete');\n",
              "    }\n",
              "    (() => {\n",
              "      let quickchartButtonEl =\n",
              "        document.querySelector('#df-f0b5e259-7beb-4b8a-8a68-535e0aa2d991 button');\n",
              "      quickchartButtonEl.style.display =\n",
              "        google.colab.kernel.accessAllowed ? 'block' : 'none';\n",
              "    })();\n",
              "  </script>\n",
              "</div>\n",
              "\n",
              "    </div>\n",
              "  </div>\n"
            ],
            "application/vnd.google.colaboratory.intrinsic+json": {
              "type": "dataframe",
              "summary": "{\n  \"name\": \"  \",\n  \"rows\": 3,\n  \"fields\": [\n    {\n      \"column\": \"summary\",\n      \"properties\": {\n        \"dtype\": \"string\",\n        \"num_unique_values\": 3,\n        \"samples\": [\n          \"min\",\n          \"mean\",\n          \"max\"\n        ],\n        \"semantic_type\": \"\",\n        \"description\": \"\"\n      }\n    },\n    {\n      \"column\": \"bathrooms\",\n      \"properties\": {\n        \"dtype\": \"string\",\n        \"num_unique_values\": 3,\n        \"samples\": [\n          \"1\",\n          \"2.138365881425694\",\n          \"20\"\n        ],\n        \"semantic_type\": \"\",\n        \"description\": \"\"\n      }\n    },\n    {\n      \"column\": \"bedrooms\",\n      \"properties\": {\n        \"dtype\": \"string\",\n        \"num_unique_values\": 3,\n        \"samples\": [\n          \"0\",\n          \"2.509554251685787\",\n          \"30\"\n        ],\n        \"semantic_type\": \"\",\n        \"description\": \"\"\n      }\n    },\n    {\n      \"column\": \"parkingSpaces\",\n      \"properties\": {\n        \"dtype\": \"string\",\n        \"num_unique_values\": 3,\n        \"samples\": [\n          \"0\",\n          \"1.206515456694982\",\n          \"144\"\n        ],\n        \"semantic_type\": \"\",\n        \"description\": \"\"\n      }\n    },\n    {\n      \"column\": \"suites\",\n      \"properties\": {\n        \"dtype\": \"string\",\n        \"num_unique_values\": 3,\n        \"samples\": [\n          \"0\",\n          \"0.8886242227865838\",\n          \"13\"\n        ],\n        \"semantic_type\": \"\",\n        \"description\": \"\"\n      }\n    },\n    {\n      \"column\": \"usableAreas\",\n      \"properties\": {\n        \"dtype\": \"string\",\n        \"num_unique_values\": 3,\n        \"samples\": [\n          \"10.0\",\n          \"104.5622558893073\",\n          \"1650.0\"\n        ],\n        \"semantic_type\": \"\",\n        \"description\": \"\"\n      }\n    },\n    {\n      \"column\": \"target\",\n      \"properties\": {\n        \"dtype\": \"string\",\n        \"num_unique_values\": 3,\n        \"samples\": [\n          \"45000.0\",\n          \"742033.417917506\",\n          \"2000000.0\"\n        ],\n        \"semantic_type\": \"\",\n        \"description\": \"\"\n      }\n    },\n    {\n      \"column\": \"condo_imputed\",\n      \"properties\": {\n        \"dtype\": \"string\",\n        \"num_unique_values\": 3,\n        \"samples\": [\n          \"0.0\",\n          \"792.5891934495139\",\n          \"8630.0\"\n        ],\n        \"semantic_type\": \"\",\n        \"description\": \"\"\n      }\n    }\n  ]\n}"
            }
          },
          "metadata": {},
          "execution_count": 64
        }
      ],
      "source": [
        "imputed\\\n",
        "  .select(*num)\\\n",
        "  .summary('min', 'mean', 'max')\\\n",
        "  .toPandas()"
      ]
    },
    {
      "cell_type": "markdown",
      "metadata": {
        "id": "1a9VRfXCLBtx"
      },
      "source": [
        "Feita essa restrição, aplicaremos a transformação `log` para suavizar a assimetria desses dados, inclusive na variável resposta (***target***)"
      ]
    },
    {
      "cell_type": "code",
      "execution_count": null,
      "metadata": {
        "id": "oT0MvXdCGMlB"
      },
      "outputs": [],
      "source": [
        "transformed = imputed\n",
        "for col in num:\n",
        "  transformed = transformed.withColumn(col, f.log(imputed[col] + 1).alias(col))"
      ]
    },
    {
      "cell_type": "markdown",
      "metadata": {
        "id": "OVSVnDySt5dj"
      },
      "source": [
        "Usaremos 70% dos imovéis como treino e o restante será usado para testar o modelo"
      ]
    },
    {
      "cell_type": "code",
      "execution_count": null,
      "metadata": {
        "id": "JP7Lc0K_tjXx"
      },
      "outputs": [],
      "source": [
        "treino, teste = transformed.randomSplit([0.7, 0.3], seed = 42)"
      ]
    },
    {
      "cell_type": "markdown",
      "metadata": {
        "id": "eCLDJJCN5uRG"
      },
      "source": [
        "### OneHot Encoding, Vetorização e Escalonamento"
      ]
    },
    {
      "cell_type": "markdown",
      "metadata": {
        "id": "8J1bxxJ_RvFx"
      },
      "source": [
        "Nessa etapa fizemos a binarização dos campos categóricos usado o *one-hot-encoding* e transformamos todos os campos de entrada em um único vetor com o `VectorAssembler`. Esse ultimo passo é obrigatório para utilizar os modelos do `pyspark`"
      ]
    },
    {
      "cell_type": "markdown",
      "metadata": {
        "id": "xbGIAQoIO7Rh"
      },
      "source": [
        "Os campos numéricos possuem diferentes escalas o que pode introduzir viés no modelo. Usaremos o método Min-Max para o escalonamento, fazendo com que todos esses campos variem entre 0 e 1.  "
      ]
    },
    {
      "cell_type": "code",
      "execution_count": null,
      "metadata": {
        "id": "TiIx9FWG60y2"
      },
      "outputs": [],
      "source": [
        "from pyspark.ml.feature import StringIndexer, OneHotEncoder, VectorAssembler, MinMaxScaler\n",
        "from pyspark.ml import Pipeline"
      ]
    },
    {
      "cell_type": "code",
      "execution_count": null,
      "metadata": {
        "id": "k8TRgVGIyIWj"
      },
      "outputs": [],
      "source": [
        "features = num.copy()\n",
        "features.remove('target')"
      ]
    },
    {
      "cell_type": "code",
      "execution_count": null,
      "metadata": {
        "id": "UvA-wS8Sv3uc"
      },
      "outputs": [],
      "source": [
        "indexer = StringIndexer(inputCols=cat, outputCols=['{}_indexed'.format(a) for a in cat])\n",
        "encoder = OneHotEncoder(inputCols=indexer.getOutputCols(), outputCols=['{}_onehot'.format(a) for a in cat])\n",
        "assembler = VectorAssembler(inputCols = features + encoder.getOutputCols(), outputCol = 'features')\n",
        "minmax = MinMaxScaler(inputCol='features', outputCol='features_minmax')"
      ]
    },
    {
      "cell_type": "markdown",
      "metadata": {
        "id": "CQI5jtk5uayD"
      },
      "source": [
        "Essas transformações podem ser organizadas numa *pipeline* para aplicar todas as etapas de uma vez só"
      ]
    },
    {
      "cell_type": "code",
      "execution_count": null,
      "metadata": {
        "id": "rJirw0Yu0Otb"
      },
      "outputs": [],
      "source": [
        "pipeline = Pipeline(stages=[indexer, encoder, assembler, minmax])\n",
        "pipeline_fitted = pipeline.fit(treino)"
      ]
    },
    {
      "cell_type": "code",
      "execution_count": null,
      "metadata": {
        "id": "iYtQEeBDzgFc"
      },
      "outputs": [],
      "source": [
        "treino_minmax = pipeline_fitted.transform(treino).select('features_minmax', 'target')"
      ]
    },
    {
      "cell_type": "markdown",
      "metadata": {
        "id": "i_5nxdYZuPT3"
      },
      "source": [
        "O novo campo ***features*** é um vetor contando todas os variáveis de entrada do modelo"
      ]
    },
    {
      "cell_type": "markdown",
      "metadata": {
        "id": "cHLpE_dyZi_q"
      },
      "source": [
        "## Treinando modelos Random Forest"
      ]
    },
    {
      "cell_type": "code",
      "execution_count": null,
      "metadata": {
        "id": "f0MXY8UqZmN4"
      },
      "outputs": [],
      "source": [
        "from pyspark.ml.regression import RandomForestRegressor\n",
        "from pyspark.ml.evaluation import RegressionEvaluator\n",
        "import pandas as pd"
      ]
    },
    {
      "cell_type": "markdown",
      "metadata": {
        "id": "oD0JX5OdhSeX"
      },
      "source": [
        "O desempenho dos modelos será avaliado com as métricas $R^{2}$ e $RSME$. A função `regression_report` retorna essas métricas e as predições do modelo."
      ]
    },
    {
      "cell_type": "code",
      "execution_count": null,
      "metadata": {
        "id": "DB_2yjp5mvY1"
      },
      "outputs": [],
      "source": [
        "def regression_report(model, data):\n",
        "  label = model.getLabelCol()\n",
        "\n",
        "  r2_evaluator = RegressionEvaluator(labelCol = label, predictionCol=\"prediction\",metricName=  'r2')\n",
        "  rmse_evaluator = RegressionEvaluator(labelCol = label, predictionCol=\"prediction\",metricName=  'rmse')\n",
        "\n",
        "  preds = model.transform(data)\n",
        "\n",
        "  preds_inverse = preds\n",
        "  for col in ['target', 'prediction']:\n",
        "    preds_inverse = preds_inverse.withColumn(col, f.round(f.exp(preds[col]) - 1, 2).alias(col))\n",
        "\n",
        "  return [preds_inverse, {'r2':r2_evaluator.evaluate(preds_inverse), 'rmse':rmse_evaluator.evaluate(preds_inverse)}]"
      ]
    },
    {
      "cell_type": "code",
      "execution_count": null,
      "metadata": {
        "id": "wCigr8WPXmyA"
      },
      "outputs": [],
      "source": [
        "rf = RandomForestRegressor(labelCol = 'target', featuresCol='features_minmax', seed = 42)\n",
        "rf_fitted = rf.fit(treino_minmax)"
      ]
    },
    {
      "cell_type": "code",
      "execution_count": null,
      "metadata": {
        "colab": {
          "base_uri": "https://localhost:8080/"
        },
        "id": "ZhhVTRtgofgk",
        "outputId": "02d70ba6-6c36-4079-ad42-549e599ef4fe"
      },
      "outputs": [
        {
          "name": "stdout",
          "output_type": "stream",
          "text": [
            "{'r2': 0.6876206019273026, 'rmse': 259605.7937610618}\n"
          ]
        }
      ],
      "source": [
        "rf_report = regression_report(rf_fitted, treino_minmax)[1]\n",
        "print(rf_report)"
      ]
    },
    {
      "cell_type": "markdown",
      "metadata": {
        "id": "CwbacaN-p7xF"
      },
      "source": [
        "### Ajuste de hiperparâmetro com `hyperopt`"
      ]
    },
    {
      "cell_type": "markdown",
      "metadata": {
        "id": "3e1KHbytUjgz"
      },
      "source": [
        "Com a biblioteca `hyperopt` conseguimos fazer uma busca estocástica pelos melhores hiperparâmetros do modelo Random Forest. A função `best_hyperparam` retorna a combinação dos parâmetros `maxDepth`, `maxBins` e `numTrees` que resulta no menor valor de $RMSE$ dentro de espaço fornecido para busca (`search_space`)"
      ]
    },
    {
      "cell_type": "code",
      "execution_count": null,
      "metadata": {
        "id": "tt2UG9gj1bpZ"
      },
      "outputs": [],
      "source": [
        "from hyperopt import tpe, hp, fmin, STATUS_OK,Trials\n",
        "from hyperopt.early_stop import no_progress_loss"
      ]
    },
    {
      "cell_type": "code",
      "execution_count": null,
      "metadata": {
        "id": "wn0wwMlf16ZQ"
      },
      "outputs": [],
      "source": [
        "def objective_function(search_space):\n",
        "\n",
        "    estimator = RandomForestRegressor(labelCol=\"target\", featuresCol='features_minmax', **search_space)\n",
        "    rmse_evaluator = RegressionEvaluator(labelCol=\"target\", predictionCol=\"prediction\", metricName=  'rmse')\n",
        "\n",
        "    model = estimator.fit(treino_minmax)\n",
        "    preds = model.transform(treino_minmax)\n",
        "    rmse = rmse_evaluator.evaluate(preds)\n",
        "    return {\"loss\": rmse, \"status\": STATUS_OK}\n"
      ]
    },
    {
      "cell_type": "code",
      "execution_count": null,
      "metadata": {
        "id": "fK-cbUI91aY0"
      },
      "outputs": [],
      "source": [
        "search_space = {\"maxDepth\": hp.quniform(\"maxDepth\",5, 20, 1),\n",
        "                \"maxBins\": hp.quniform(\"maxBins\",10, 50, 1),\n",
        "                \"numTrees\": hp.quniform(\"numTrees\",10, 50, 1)}\n",
        "trials = Trials()"
      ]
    },
    {
      "cell_type": "code",
      "execution_count": null,
      "metadata": {
        "colab": {
          "base_uri": "https://localhost:8080/"
        },
        "id": "s7qC10ioq8Yh",
        "outputId": "ad99f508-fc62-4d90-e49f-fc53c800dff5"
      },
      "outputs": [
        {
          "name": "stdout",
          "output_type": "stream",
          "text": [
            " 67%|██████▋   | 20/30 [16:39<08:19, 50.00s/trial, best loss: 0.21161180267402033]\n"
          ]
        }
      ],
      "source": [
        "best_hyperparam = fmin(\n",
        "    fn = objective_function,\n",
        "    space = search_space,\n",
        "    algo = tpe.suggest,\n",
        "    max_evals = 30,\n",
        "    trials = trials,\n",
        "    early_stop_fn = no_progress_loss(10)\n",
        "    )"
      ]
    },
    {
      "cell_type": "code",
      "execution_count": null,
      "metadata": {
        "colab": {
          "base_uri": "https://localhost:8080/"
        },
        "id": "W9_AchZa52FA",
        "outputId": "59cd28f3-3c89-49de-c3f9-f31002120345"
      },
      "outputs": [
        {
          "name": "stdout",
          "output_type": "stream",
          "text": [
            "Best: {'maxBins': 46.0, 'maxDepth': 19.0, 'numTrees': 48.0}\n"
          ]
        }
      ],
      "source": [
        "print(\"Best: {}\".format(best_hyperparam))"
      ]
    },
    {
      "cell_type": "markdown",
      "metadata": {
        "id": "W5NZEOhzVmVW"
      },
      "source": [
        "Agora podemos utilizar os valores dos hiperparâmetros encontrados para ajustar o novo modelo"
      ]
    },
    {
      "cell_type": "code",
      "execution_count": null,
      "metadata": {
        "id": "cLkTFMHHUgS9"
      },
      "outputs": [],
      "source": [
        "rf_hopt = RandomForestRegressor(labelCol=\"target\", featuresCol='features_minmax', **best_hyperparam)\n",
        "rf_hopt_fitted = rf_hopt.fit(treino_minmax)"
      ]
    },
    {
      "cell_type": "code",
      "execution_count": null,
      "metadata": {
        "colab": {
          "base_uri": "https://localhost:8080/"
        },
        "id": "vZWYkLY6tJ0u",
        "outputId": "31024614-5013-4f7c-db99-481e3b607b42"
      },
      "outputs": [
        {
          "name": "stdout",
          "output_type": "stream",
          "text": [
            "{'r2': 0.8891194656230331, 'rmse': 154668.13325665452}\n"
          ]
        }
      ],
      "source": [
        "rf_hopt_report = regression_report(rf_hopt_fitted, treino_minmax)[1]\n",
        "print(rf_hopt_report)"
      ]
    },
    {
      "cell_type": "markdown",
      "metadata": {
        "id": "vwiFP0FgTxSg"
      },
      "source": [
        "O modelo otimizado teve um desempenho melhor, mas o erro continua alto"
      ]
    },
    {
      "cell_type": "code",
      "execution_count": null,
      "metadata": {
        "colab": {
          "base_uri": "https://localhost:8080/",
          "height": 112
        },
        "id": "KoqMYaCWubRV",
        "outputId": "8147cc80-a9c3-46ed-f0ce-ac65663cd2e4"
      },
      "outputs": [
        {
          "data": {
            "application/vnd.google.colaboratory.intrinsic+json": {
              "summary": "{\n  \"name\": \"pd\",\n  \"rows\": 2,\n  \"fields\": [\n    {\n      \"column\": \"r2\",\n      \"properties\": {\n        \"dtype\": \"number\",\n        \"std\": 0.1421284630184961,\n        \"min\": 0.688,\n        \"max\": 0.889,\n        \"num_unique_values\": 2,\n        \"samples\": [\n          0.889,\n          0.688\n        ],\n        \"semantic_type\": \"\",\n        \"description\": \"\"\n      }\n    },\n    {\n      \"column\": \"rmse\",\n      \"properties\": {\n        \"dtype\": \"number\",\n        \"std\": 74202.1316949551,\n        \"min\": 154668.133,\n        \"max\": 259605.794,\n        \"num_unique_values\": 2,\n        \"samples\": [\n          154668.133,\n          259605.794\n        ],\n        \"semantic_type\": \"\",\n        \"description\": \"\"\n      }\n    }\n  ]\n}",
              "type": "dataframe"
            },
            "text/html": [
              "\n",
              "  <div id=\"df-06fbc8b9-3e51-488f-8852-c58419751347\" class=\"colab-df-container\">\n",
              "    <div>\n",
              "<style scoped>\n",
              "    .dataframe tbody tr th:only-of-type {\n",
              "        vertical-align: middle;\n",
              "    }\n",
              "\n",
              "    .dataframe tbody tr th {\n",
              "        vertical-align: top;\n",
              "    }\n",
              "\n",
              "    .dataframe thead th {\n",
              "        text-align: right;\n",
              "    }\n",
              "</style>\n",
              "<table border=\"1\" class=\"dataframe\">\n",
              "  <thead>\n",
              "    <tr style=\"text-align: right;\">\n",
              "      <th></th>\n",
              "      <th>r2</th>\n",
              "      <th>rmse</th>\n",
              "    </tr>\n",
              "  </thead>\n",
              "  <tbody>\n",
              "    <tr>\n",
              "      <th>rf</th>\n",
              "      <td>0.688</td>\n",
              "      <td>259605.794</td>\n",
              "    </tr>\n",
              "    <tr>\n",
              "      <th>rf_hopt</th>\n",
              "      <td>0.889</td>\n",
              "      <td>154668.133</td>\n",
              "    </tr>\n",
              "  </tbody>\n",
              "</table>\n",
              "</div>\n",
              "    <div class=\"colab-df-buttons\">\n",
              "\n",
              "  <div class=\"colab-df-container\">\n",
              "    <button class=\"colab-df-convert\" onclick=\"convertToInteractive('df-06fbc8b9-3e51-488f-8852-c58419751347')\"\n",
              "            title=\"Convert this dataframe to an interactive table.\"\n",
              "            style=\"display:none;\">\n",
              "\n",
              "  <svg xmlns=\"http://www.w3.org/2000/svg\" height=\"24px\" viewBox=\"0 -960 960 960\">\n",
              "    <path d=\"M120-120v-720h720v720H120Zm60-500h600v-160H180v160Zm220 220h160v-160H400v160Zm0 220h160v-160H400v160ZM180-400h160v-160H180v160Zm440 0h160v-160H620v160ZM180-180h160v-160H180v160Zm440 0h160v-160H620v160Z\"/>\n",
              "  </svg>\n",
              "    </button>\n",
              "\n",
              "  <style>\n",
              "    .colab-df-container {\n",
              "      display:flex;\n",
              "      gap: 12px;\n",
              "    }\n",
              "\n",
              "    .colab-df-convert {\n",
              "      background-color: #E8F0FE;\n",
              "      border: none;\n",
              "      border-radius: 50%;\n",
              "      cursor: pointer;\n",
              "      display: none;\n",
              "      fill: #1967D2;\n",
              "      height: 32px;\n",
              "      padding: 0 0 0 0;\n",
              "      width: 32px;\n",
              "    }\n",
              "\n",
              "    .colab-df-convert:hover {\n",
              "      background-color: #E2EBFA;\n",
              "      box-shadow: 0px 1px 2px rgba(60, 64, 67, 0.3), 0px 1px 3px 1px rgba(60, 64, 67, 0.15);\n",
              "      fill: #174EA6;\n",
              "    }\n",
              "\n",
              "    .colab-df-buttons div {\n",
              "      margin-bottom: 4px;\n",
              "    }\n",
              "\n",
              "    [theme=dark] .colab-df-convert {\n",
              "      background-color: #3B4455;\n",
              "      fill: #D2E3FC;\n",
              "    }\n",
              "\n",
              "    [theme=dark] .colab-df-convert:hover {\n",
              "      background-color: #434B5C;\n",
              "      box-shadow: 0px 1px 3px 1px rgba(0, 0, 0, 0.15);\n",
              "      filter: drop-shadow(0px 1px 2px rgba(0, 0, 0, 0.3));\n",
              "      fill: #FFFFFF;\n",
              "    }\n",
              "  </style>\n",
              "\n",
              "    <script>\n",
              "      const buttonEl =\n",
              "        document.querySelector('#df-06fbc8b9-3e51-488f-8852-c58419751347 button.colab-df-convert');\n",
              "      buttonEl.style.display =\n",
              "        google.colab.kernel.accessAllowed ? 'block' : 'none';\n",
              "\n",
              "      async function convertToInteractive(key) {\n",
              "        const element = document.querySelector('#df-06fbc8b9-3e51-488f-8852-c58419751347');\n",
              "        const dataTable =\n",
              "          await google.colab.kernel.invokeFunction('convertToInteractive',\n",
              "                                                    [key], {});\n",
              "        if (!dataTable) return;\n",
              "\n",
              "        const docLinkHtml = 'Like what you see? Visit the ' +\n",
              "          '<a target=\"_blank\" href=https://colab.research.google.com/notebooks/data_table.ipynb>data table notebook</a>'\n",
              "          + ' to learn more about interactive tables.';\n",
              "        element.innerHTML = '';\n",
              "        dataTable['output_type'] = 'display_data';\n",
              "        await google.colab.output.renderOutput(dataTable, element);\n",
              "        const docLink = document.createElement('div');\n",
              "        docLink.innerHTML = docLinkHtml;\n",
              "        element.appendChild(docLink);\n",
              "      }\n",
              "    </script>\n",
              "  </div>\n",
              "\n",
              "\n",
              "<div id=\"df-19193b34-299d-46cf-b6b0-6f64af0baafb\">\n",
              "  <button class=\"colab-df-quickchart\" onclick=\"quickchart('df-19193b34-299d-46cf-b6b0-6f64af0baafb')\"\n",
              "            title=\"Suggest charts\"\n",
              "            style=\"display:none;\">\n",
              "\n",
              "<svg xmlns=\"http://www.w3.org/2000/svg\" height=\"24px\"viewBox=\"0 0 24 24\"\n",
              "     width=\"24px\">\n",
              "    <g>\n",
              "        <path d=\"M19 3H5c-1.1 0-2 .9-2 2v14c0 1.1.9 2 2 2h14c1.1 0 2-.9 2-2V5c0-1.1-.9-2-2-2zM9 17H7v-7h2v7zm4 0h-2V7h2v10zm4 0h-2v-4h2v4z\"/>\n",
              "    </g>\n",
              "</svg>\n",
              "  </button>\n",
              "\n",
              "<style>\n",
              "  .colab-df-quickchart {\n",
              "      --bg-color: #E8F0FE;\n",
              "      --fill-color: #1967D2;\n",
              "      --hover-bg-color: #E2EBFA;\n",
              "      --hover-fill-color: #174EA6;\n",
              "      --disabled-fill-color: #AAA;\n",
              "      --disabled-bg-color: #DDD;\n",
              "  }\n",
              "\n",
              "  [theme=dark] .colab-df-quickchart {\n",
              "      --bg-color: #3B4455;\n",
              "      --fill-color: #D2E3FC;\n",
              "      --hover-bg-color: #434B5C;\n",
              "      --hover-fill-color: #FFFFFF;\n",
              "      --disabled-bg-color: #3B4455;\n",
              "      --disabled-fill-color: #666;\n",
              "  }\n",
              "\n",
              "  .colab-df-quickchart {\n",
              "    background-color: var(--bg-color);\n",
              "    border: none;\n",
              "    border-radius: 50%;\n",
              "    cursor: pointer;\n",
              "    display: none;\n",
              "    fill: var(--fill-color);\n",
              "    height: 32px;\n",
              "    padding: 0;\n",
              "    width: 32px;\n",
              "  }\n",
              "\n",
              "  .colab-df-quickchart:hover {\n",
              "    background-color: var(--hover-bg-color);\n",
              "    box-shadow: 0 1px 2px rgba(60, 64, 67, 0.3), 0 1px 3px 1px rgba(60, 64, 67, 0.15);\n",
              "    fill: var(--button-hover-fill-color);\n",
              "  }\n",
              "\n",
              "  .colab-df-quickchart-complete:disabled,\n",
              "  .colab-df-quickchart-complete:disabled:hover {\n",
              "    background-color: var(--disabled-bg-color);\n",
              "    fill: var(--disabled-fill-color);\n",
              "    box-shadow: none;\n",
              "  }\n",
              "\n",
              "  .colab-df-spinner {\n",
              "    border: 2px solid var(--fill-color);\n",
              "    border-color: transparent;\n",
              "    border-bottom-color: var(--fill-color);\n",
              "    animation:\n",
              "      spin 1s steps(1) infinite;\n",
              "  }\n",
              "\n",
              "  @keyframes spin {\n",
              "    0% {\n",
              "      border-color: transparent;\n",
              "      border-bottom-color: var(--fill-color);\n",
              "      border-left-color: var(--fill-color);\n",
              "    }\n",
              "    20% {\n",
              "      border-color: transparent;\n",
              "      border-left-color: var(--fill-color);\n",
              "      border-top-color: var(--fill-color);\n",
              "    }\n",
              "    30% {\n",
              "      border-color: transparent;\n",
              "      border-left-color: var(--fill-color);\n",
              "      border-top-color: var(--fill-color);\n",
              "      border-right-color: var(--fill-color);\n",
              "    }\n",
              "    40% {\n",
              "      border-color: transparent;\n",
              "      border-right-color: var(--fill-color);\n",
              "      border-top-color: var(--fill-color);\n",
              "    }\n",
              "    60% {\n",
              "      border-color: transparent;\n",
              "      border-right-color: var(--fill-color);\n",
              "    }\n",
              "    80% {\n",
              "      border-color: transparent;\n",
              "      border-right-color: var(--fill-color);\n",
              "      border-bottom-color: var(--fill-color);\n",
              "    }\n",
              "    90% {\n",
              "      border-color: transparent;\n",
              "      border-bottom-color: var(--fill-color);\n",
              "    }\n",
              "  }\n",
              "</style>\n",
              "\n",
              "  <script>\n",
              "    async function quickchart(key) {\n",
              "      const quickchartButtonEl =\n",
              "        document.querySelector('#' + key + ' button');\n",
              "      quickchartButtonEl.disabled = true;  // To prevent multiple clicks.\n",
              "      quickchartButtonEl.classList.add('colab-df-spinner');\n",
              "      try {\n",
              "        const charts = await google.colab.kernel.invokeFunction(\n",
              "            'suggestCharts', [key], {});\n",
              "      } catch (error) {\n",
              "        console.error('Error during call to suggestCharts:', error);\n",
              "      }\n",
              "      quickchartButtonEl.classList.remove('colab-df-spinner');\n",
              "      quickchartButtonEl.classList.add('colab-df-quickchart-complete');\n",
              "    }\n",
              "    (() => {\n",
              "      let quickchartButtonEl =\n",
              "        document.querySelector('#df-19193b34-299d-46cf-b6b0-6f64af0baafb button');\n",
              "      quickchartButtonEl.style.display =\n",
              "        google.colab.kernel.accessAllowed ? 'block' : 'none';\n",
              "    })();\n",
              "  </script>\n",
              "</div>\n",
              "\n",
              "    </div>\n",
              "  </div>\n"
            ],
            "text/plain": [
              "            r2        rmse\n",
              "rf       0.688  259605.794\n",
              "rf_hopt  0.889  154668.133"
            ]
          },
          "execution_count": 63,
          "metadata": {},
          "output_type": "execute_result"
        }
      ],
      "source": [
        "pd.DataFrame([rf_report, rf_hopt_report], index = ['rf', 'rf_hopt']).round(3)"
      ]
    },
    {
      "cell_type": "markdown",
      "metadata": {
        "id": "JIXgZ2lmUBcU"
      },
      "source": [
        "O desempenho um pouco pior no conjunto teste é esperado, ainda assim o modelo otimizado foi superior"
      ]
    },
    {
      "cell_type": "code",
      "execution_count": null,
      "metadata": {
        "id": "QXWS0BCDvbSb"
      },
      "outputs": [],
      "source": [
        "teste_minmax = pipeline_fitted.transform(teste).select('features_minmax', 'target')\n",
        "rf_report_teste = regression_report(rf_fitted, teste_minmax)[1]\n",
        "rf_hopt_report_teste = regression_report(rf_hopt_fitted, teste_minmax)[1]"
      ]
    },
    {
      "cell_type": "code",
      "execution_count": null,
      "metadata": {
        "colab": {
          "base_uri": "https://localhost:8080/",
          "height": 112
        },
        "id": "HXyMgge4wilA",
        "outputId": "57d0ad0c-4740-4cc3-cff7-8055823472e0"
      },
      "outputs": [
        {
          "data": {
            "application/vnd.google.colaboratory.intrinsic+json": {
              "summary": "{\n  \"name\": \"pd\",\n  \"rows\": 2,\n  \"fields\": [\n    {\n      \"column\": \"r2\",\n      \"properties\": {\n        \"dtype\": \"number\",\n        \"std\": 0.07778174593052022,\n        \"min\": 0.68,\n        \"max\": 0.79,\n        \"num_unique_values\": 2,\n        \"samples\": [\n          0.79,\n          0.68\n        ],\n        \"semantic_type\": \"\",\n        \"description\": \"\"\n      }\n    },\n    {\n      \"column\": \"rmse\",\n      \"properties\": {\n        \"dtype\": \"number\",\n        \"std\": 34745.112978231184,\n        \"min\": 215736.42,\n        \"max\": 264873.43,\n        \"num_unique_values\": 2,\n        \"samples\": [\n          215736.42,\n          264873.43\n        ],\n        \"semantic_type\": \"\",\n        \"description\": \"\"\n      }\n    }\n  ]\n}",
              "type": "dataframe"
            },
            "text/html": [
              "\n",
              "  <div id=\"df-0cc88f61-84c5-43e5-8668-b81f537f1bcc\" class=\"colab-df-container\">\n",
              "    <div>\n",
              "<style scoped>\n",
              "    .dataframe tbody tr th:only-of-type {\n",
              "        vertical-align: middle;\n",
              "    }\n",
              "\n",
              "    .dataframe tbody tr th {\n",
              "        vertical-align: top;\n",
              "    }\n",
              "\n",
              "    .dataframe thead th {\n",
              "        text-align: right;\n",
              "    }\n",
              "</style>\n",
              "<table border=\"1\" class=\"dataframe\">\n",
              "  <thead>\n",
              "    <tr style=\"text-align: right;\">\n",
              "      <th></th>\n",
              "      <th>r2</th>\n",
              "      <th>rmse</th>\n",
              "    </tr>\n",
              "  </thead>\n",
              "  <tbody>\n",
              "    <tr>\n",
              "      <th>rf</th>\n",
              "      <td>0.68</td>\n",
              "      <td>264873.43</td>\n",
              "    </tr>\n",
              "    <tr>\n",
              "      <th>rf_hopt</th>\n",
              "      <td>0.79</td>\n",
              "      <td>215736.42</td>\n",
              "    </tr>\n",
              "  </tbody>\n",
              "</table>\n",
              "</div>\n",
              "    <div class=\"colab-df-buttons\">\n",
              "\n",
              "  <div class=\"colab-df-container\">\n",
              "    <button class=\"colab-df-convert\" onclick=\"convertToInteractive('df-0cc88f61-84c5-43e5-8668-b81f537f1bcc')\"\n",
              "            title=\"Convert this dataframe to an interactive table.\"\n",
              "            style=\"display:none;\">\n",
              "\n",
              "  <svg xmlns=\"http://www.w3.org/2000/svg\" height=\"24px\" viewBox=\"0 -960 960 960\">\n",
              "    <path d=\"M120-120v-720h720v720H120Zm60-500h600v-160H180v160Zm220 220h160v-160H400v160Zm0 220h160v-160H400v160ZM180-400h160v-160H180v160Zm440 0h160v-160H620v160ZM180-180h160v-160H180v160Zm440 0h160v-160H620v160Z\"/>\n",
              "  </svg>\n",
              "    </button>\n",
              "\n",
              "  <style>\n",
              "    .colab-df-container {\n",
              "      display:flex;\n",
              "      gap: 12px;\n",
              "    }\n",
              "\n",
              "    .colab-df-convert {\n",
              "      background-color: #E8F0FE;\n",
              "      border: none;\n",
              "      border-radius: 50%;\n",
              "      cursor: pointer;\n",
              "      display: none;\n",
              "      fill: #1967D2;\n",
              "      height: 32px;\n",
              "      padding: 0 0 0 0;\n",
              "      width: 32px;\n",
              "    }\n",
              "\n",
              "    .colab-df-convert:hover {\n",
              "      background-color: #E2EBFA;\n",
              "      box-shadow: 0px 1px 2px rgba(60, 64, 67, 0.3), 0px 1px 3px 1px rgba(60, 64, 67, 0.15);\n",
              "      fill: #174EA6;\n",
              "    }\n",
              "\n",
              "    .colab-df-buttons div {\n",
              "      margin-bottom: 4px;\n",
              "    }\n",
              "\n",
              "    [theme=dark] .colab-df-convert {\n",
              "      background-color: #3B4455;\n",
              "      fill: #D2E3FC;\n",
              "    }\n",
              "\n",
              "    [theme=dark] .colab-df-convert:hover {\n",
              "      background-color: #434B5C;\n",
              "      box-shadow: 0px 1px 3px 1px rgba(0, 0, 0, 0.15);\n",
              "      filter: drop-shadow(0px 1px 2px rgba(0, 0, 0, 0.3));\n",
              "      fill: #FFFFFF;\n",
              "    }\n",
              "  </style>\n",
              "\n",
              "    <script>\n",
              "      const buttonEl =\n",
              "        document.querySelector('#df-0cc88f61-84c5-43e5-8668-b81f537f1bcc button.colab-df-convert');\n",
              "      buttonEl.style.display =\n",
              "        google.colab.kernel.accessAllowed ? 'block' : 'none';\n",
              "\n",
              "      async function convertToInteractive(key) {\n",
              "        const element = document.querySelector('#df-0cc88f61-84c5-43e5-8668-b81f537f1bcc');\n",
              "        const dataTable =\n",
              "          await google.colab.kernel.invokeFunction('convertToInteractive',\n",
              "                                                    [key], {});\n",
              "        if (!dataTable) return;\n",
              "\n",
              "        const docLinkHtml = 'Like what you see? Visit the ' +\n",
              "          '<a target=\"_blank\" href=https://colab.research.google.com/notebooks/data_table.ipynb>data table notebook</a>'\n",
              "          + ' to learn more about interactive tables.';\n",
              "        element.innerHTML = '';\n",
              "        dataTable['output_type'] = 'display_data';\n",
              "        await google.colab.output.renderOutput(dataTable, element);\n",
              "        const docLink = document.createElement('div');\n",
              "        docLink.innerHTML = docLinkHtml;\n",
              "        element.appendChild(docLink);\n",
              "      }\n",
              "    </script>\n",
              "  </div>\n",
              "\n",
              "\n",
              "<div id=\"df-8d89f1e2-a80b-4f25-8ca1-966697adc282\">\n",
              "  <button class=\"colab-df-quickchart\" onclick=\"quickchart('df-8d89f1e2-a80b-4f25-8ca1-966697adc282')\"\n",
              "            title=\"Suggest charts\"\n",
              "            style=\"display:none;\">\n",
              "\n",
              "<svg xmlns=\"http://www.w3.org/2000/svg\" height=\"24px\"viewBox=\"0 0 24 24\"\n",
              "     width=\"24px\">\n",
              "    <g>\n",
              "        <path d=\"M19 3H5c-1.1 0-2 .9-2 2v14c0 1.1.9 2 2 2h14c1.1 0 2-.9 2-2V5c0-1.1-.9-2-2-2zM9 17H7v-7h2v7zm4 0h-2V7h2v10zm4 0h-2v-4h2v4z\"/>\n",
              "    </g>\n",
              "</svg>\n",
              "  </button>\n",
              "\n",
              "<style>\n",
              "  .colab-df-quickchart {\n",
              "      --bg-color: #E8F0FE;\n",
              "      --fill-color: #1967D2;\n",
              "      --hover-bg-color: #E2EBFA;\n",
              "      --hover-fill-color: #174EA6;\n",
              "      --disabled-fill-color: #AAA;\n",
              "      --disabled-bg-color: #DDD;\n",
              "  }\n",
              "\n",
              "  [theme=dark] .colab-df-quickchart {\n",
              "      --bg-color: #3B4455;\n",
              "      --fill-color: #D2E3FC;\n",
              "      --hover-bg-color: #434B5C;\n",
              "      --hover-fill-color: #FFFFFF;\n",
              "      --disabled-bg-color: #3B4455;\n",
              "      --disabled-fill-color: #666;\n",
              "  }\n",
              "\n",
              "  .colab-df-quickchart {\n",
              "    background-color: var(--bg-color);\n",
              "    border: none;\n",
              "    border-radius: 50%;\n",
              "    cursor: pointer;\n",
              "    display: none;\n",
              "    fill: var(--fill-color);\n",
              "    height: 32px;\n",
              "    padding: 0;\n",
              "    width: 32px;\n",
              "  }\n",
              "\n",
              "  .colab-df-quickchart:hover {\n",
              "    background-color: var(--hover-bg-color);\n",
              "    box-shadow: 0 1px 2px rgba(60, 64, 67, 0.3), 0 1px 3px 1px rgba(60, 64, 67, 0.15);\n",
              "    fill: var(--button-hover-fill-color);\n",
              "  }\n",
              "\n",
              "  .colab-df-quickchart-complete:disabled,\n",
              "  .colab-df-quickchart-complete:disabled:hover {\n",
              "    background-color: var(--disabled-bg-color);\n",
              "    fill: var(--disabled-fill-color);\n",
              "    box-shadow: none;\n",
              "  }\n",
              "\n",
              "  .colab-df-spinner {\n",
              "    border: 2px solid var(--fill-color);\n",
              "    border-color: transparent;\n",
              "    border-bottom-color: var(--fill-color);\n",
              "    animation:\n",
              "      spin 1s steps(1) infinite;\n",
              "  }\n",
              "\n",
              "  @keyframes spin {\n",
              "    0% {\n",
              "      border-color: transparent;\n",
              "      border-bottom-color: var(--fill-color);\n",
              "      border-left-color: var(--fill-color);\n",
              "    }\n",
              "    20% {\n",
              "      border-color: transparent;\n",
              "      border-left-color: var(--fill-color);\n",
              "      border-top-color: var(--fill-color);\n",
              "    }\n",
              "    30% {\n",
              "      border-color: transparent;\n",
              "      border-left-color: var(--fill-color);\n",
              "      border-top-color: var(--fill-color);\n",
              "      border-right-color: var(--fill-color);\n",
              "    }\n",
              "    40% {\n",
              "      border-color: transparent;\n",
              "      border-right-color: var(--fill-color);\n",
              "      border-top-color: var(--fill-color);\n",
              "    }\n",
              "    60% {\n",
              "      border-color: transparent;\n",
              "      border-right-color: var(--fill-color);\n",
              "    }\n",
              "    80% {\n",
              "      border-color: transparent;\n",
              "      border-right-color: var(--fill-color);\n",
              "      border-bottom-color: var(--fill-color);\n",
              "    }\n",
              "    90% {\n",
              "      border-color: transparent;\n",
              "      border-bottom-color: var(--fill-color);\n",
              "    }\n",
              "  }\n",
              "</style>\n",
              "\n",
              "  <script>\n",
              "    async function quickchart(key) {\n",
              "      const quickchartButtonEl =\n",
              "        document.querySelector('#' + key + ' button');\n",
              "      quickchartButtonEl.disabled = true;  // To prevent multiple clicks.\n",
              "      quickchartButtonEl.classList.add('colab-df-spinner');\n",
              "      try {\n",
              "        const charts = await google.colab.kernel.invokeFunction(\n",
              "            'suggestCharts', [key], {});\n",
              "      } catch (error) {\n",
              "        console.error('Error during call to suggestCharts:', error);\n",
              "      }\n",
              "      quickchartButtonEl.classList.remove('colab-df-spinner');\n",
              "      quickchartButtonEl.classList.add('colab-df-quickchart-complete');\n",
              "    }\n",
              "    (() => {\n",
              "      let quickchartButtonEl =\n",
              "        document.querySelector('#df-8d89f1e2-a80b-4f25-8ca1-966697adc282 button');\n",
              "      quickchartButtonEl.style.display =\n",
              "        google.colab.kernel.accessAllowed ? 'block' : 'none';\n",
              "    })();\n",
              "  </script>\n",
              "</div>\n",
              "\n",
              "    </div>\n",
              "  </div>\n"
            ],
            "text/plain": [
              "           r2       rmse\n",
              "rf       0.68  264873.43\n",
              "rf_hopt  0.79  215736.42"
            ]
          },
          "execution_count": 65,
          "metadata": {},
          "output_type": "execute_result"
        }
      ],
      "source": [
        "pd.DataFrame([rf_report_teste, rf_hopt_report_teste], index = ['rf', 'rf_hopt']).round(2)"
      ]
    },
    {
      "cell_type": "markdown",
      "metadata": {
        "id": "5S-QTBp6xHMd"
      },
      "source": [
        "### Importância das variáveis"
      ]
    },
    {
      "cell_type": "markdown",
      "metadata": {
        "id": "Xa3VTIAFdJQu"
      },
      "source": [
        "O atributo `featureImportances` contem a importância estimada de cada variável dentro do modelo"
      ]
    },
    {
      "cell_type": "code",
      "execution_count": null,
      "metadata": {
        "id": "2EIWeCbrcWZ1"
      },
      "outputs": [],
      "source": [
        "string_index = pipeline_fitted.stages[0].labelsArray\n",
        "labels = []\n",
        "for item in string_index:\n",
        "  labels = labels + list(item)[:-1]\n",
        "\n",
        "all_features = features + labels"
      ]
    },
    {
      "cell_type": "markdown",
      "metadata": {
        "id": "3M57ZyqufJFZ"
      },
      "source": [
        "As variáveis mais importantes foram a área útil do imóvel e o valor do condomínio. Entre as categóricas, a informação mais relevante foi a do imóvel estar localizado na Zona Sul"
      ]
    },
    {
      "cell_type": "code",
      "execution_count": null,
      "metadata": {
        "colab": {
          "base_uri": "https://localhost:8080/",
          "height": 98
        },
        "id": "KySMoqeHxOpU",
        "outputId": "977bc5aa-bf07-4011-c42c-39647e471780"
      },
      "outputs": [
        {
          "data": {
            "application/vnd.google.colaboratory.intrinsic+json": {
              "summary": "{\n  \"name\": \"pd\",\n  \"rows\": 1,\n  \"fields\": [\n    {\n      \"column\": \"bathrooms\",\n      \"properties\": {\n        \"dtype\": \"number\",\n        \"std\": null,\n        \"min\": 0.06,\n        \"max\": 0.06,\n        \"num_unique_values\": 1,\n        \"samples\": [\n          0.06\n        ],\n        \"semantic_type\": \"\",\n        \"description\": \"\"\n      }\n    },\n    {\n      \"column\": \"bedrooms\",\n      \"properties\": {\n        \"dtype\": \"number\",\n        \"std\": null,\n        \"min\": 0.08,\n        \"max\": 0.08,\n        \"num_unique_values\": 1,\n        \"samples\": [\n          0.08\n        ],\n        \"semantic_type\": \"\",\n        \"description\": \"\"\n      }\n    },\n    {\n      \"column\": \"parkingSpaces\",\n      \"properties\": {\n        \"dtype\": \"number\",\n        \"std\": null,\n        \"min\": 0.05,\n        \"max\": 0.05,\n        \"num_unique_values\": 1,\n        \"samples\": [\n          0.05\n        ],\n        \"semantic_type\": \"\",\n        \"description\": \"\"\n      }\n    },\n    {\n      \"column\": \"suites\",\n      \"properties\": {\n        \"dtype\": \"number\",\n        \"std\": null,\n        \"min\": 0.08,\n        \"max\": 0.08,\n        \"num_unique_values\": 1,\n        \"samples\": [\n          0.08\n        ],\n        \"semantic_type\": \"\",\n        \"description\": \"\"\n      }\n    },\n    {\n      \"column\": \"usableAreas\",\n      \"properties\": {\n        \"dtype\": \"number\",\n        \"std\": null,\n        \"min\": 0.31,\n        \"max\": 0.31,\n        \"num_unique_values\": 1,\n        \"samples\": [\n          0.31\n        ],\n        \"semantic_type\": \"\",\n        \"description\": \"\"\n      }\n    },\n    {\n      \"column\": \"condo_imputed\",\n      \"properties\": {\n        \"dtype\": \"number\",\n        \"std\": null,\n        \"min\": 0.26,\n        \"max\": 0.26,\n        \"num_unique_values\": 1,\n        \"samples\": [\n          0.26\n        ],\n        \"semantic_type\": \"\",\n        \"description\": \"\"\n      }\n    },\n    {\n      \"column\": \"Apartamento\",\n      \"properties\": {\n        \"dtype\": \"number\",\n        \"std\": null,\n        \"min\": 0.01,\n        \"max\": 0.01,\n        \"num_unique_values\": 1,\n        \"samples\": [\n          0.01\n        ],\n        \"semantic_type\": \"\",\n        \"description\": \"\"\n      }\n    },\n    {\n      \"column\": \"Zona Oeste\",\n      \"properties\": {\n        \"dtype\": \"number\",\n        \"std\": null,\n        \"min\": 0.01,\n        \"max\": 0.01,\n        \"num_unique_values\": 1,\n        \"samples\": [\n          0.01\n        ],\n        \"semantic_type\": \"\",\n        \"description\": \"\"\n      }\n    },\n    {\n      \"column\": \"Zona Norte\",\n      \"properties\": {\n        \"dtype\": \"number\",\n        \"std\": null,\n        \"min\": 0.02,\n        \"max\": 0.02,\n        \"num_unique_values\": 1,\n        \"samples\": [\n          0.02\n        ],\n        \"semantic_type\": \"\",\n        \"description\": \"\"\n      }\n    },\n    {\n      \"column\": \"Zona Sul\",\n      \"properties\": {\n        \"dtype\": \"number\",\n        \"std\": null,\n        \"min\": 0.11,\n        \"max\": 0.11,\n        \"num_unique_values\": 1,\n        \"samples\": [\n          0.11\n        ],\n        \"semantic_type\": \"\",\n        \"description\": \"\"\n      }\n    }\n  ]\n}",
              "type": "dataframe"
            },
            "text/html": [
              "\n",
              "  <div id=\"df-b5042cde-9e93-4c1e-a718-b154f1e89d09\" class=\"colab-df-container\">\n",
              "    <div>\n",
              "<style scoped>\n",
              "    .dataframe tbody tr th:only-of-type {\n",
              "        vertical-align: middle;\n",
              "    }\n",
              "\n",
              "    .dataframe tbody tr th {\n",
              "        vertical-align: top;\n",
              "    }\n",
              "\n",
              "    .dataframe thead th {\n",
              "        text-align: right;\n",
              "    }\n",
              "</style>\n",
              "<table border=\"1\" class=\"dataframe\">\n",
              "  <thead>\n",
              "    <tr style=\"text-align: right;\">\n",
              "      <th></th>\n",
              "      <th>bathrooms</th>\n",
              "      <th>bedrooms</th>\n",
              "      <th>parkingSpaces</th>\n",
              "      <th>suites</th>\n",
              "      <th>usableAreas</th>\n",
              "      <th>condo_imputed</th>\n",
              "      <th>Apartamento</th>\n",
              "      <th>Zona Oeste</th>\n",
              "      <th>Zona Norte</th>\n",
              "      <th>Zona Sul</th>\n",
              "    </tr>\n",
              "  </thead>\n",
              "  <tbody>\n",
              "    <tr>\n",
              "      <th>0</th>\n",
              "      <td>0.06</td>\n",
              "      <td>0.08</td>\n",
              "      <td>0.05</td>\n",
              "      <td>0.08</td>\n",
              "      <td>0.31</td>\n",
              "      <td>0.26</td>\n",
              "      <td>0.01</td>\n",
              "      <td>0.01</td>\n",
              "      <td>0.02</td>\n",
              "      <td>0.11</td>\n",
              "    </tr>\n",
              "  </tbody>\n",
              "</table>\n",
              "</div>\n",
              "    <div class=\"colab-df-buttons\">\n",
              "\n",
              "  <div class=\"colab-df-container\">\n",
              "    <button class=\"colab-df-convert\" onclick=\"convertToInteractive('df-b5042cde-9e93-4c1e-a718-b154f1e89d09')\"\n",
              "            title=\"Convert this dataframe to an interactive table.\"\n",
              "            style=\"display:none;\">\n",
              "\n",
              "  <svg xmlns=\"http://www.w3.org/2000/svg\" height=\"24px\" viewBox=\"0 -960 960 960\">\n",
              "    <path d=\"M120-120v-720h720v720H120Zm60-500h600v-160H180v160Zm220 220h160v-160H400v160Zm0 220h160v-160H400v160ZM180-400h160v-160H180v160Zm440 0h160v-160H620v160ZM180-180h160v-160H180v160Zm440 0h160v-160H620v160Z\"/>\n",
              "  </svg>\n",
              "    </button>\n",
              "\n",
              "  <style>\n",
              "    .colab-df-container {\n",
              "      display:flex;\n",
              "      gap: 12px;\n",
              "    }\n",
              "\n",
              "    .colab-df-convert {\n",
              "      background-color: #E8F0FE;\n",
              "      border: none;\n",
              "      border-radius: 50%;\n",
              "      cursor: pointer;\n",
              "      display: none;\n",
              "      fill: #1967D2;\n",
              "      height: 32px;\n",
              "      padding: 0 0 0 0;\n",
              "      width: 32px;\n",
              "    }\n",
              "\n",
              "    .colab-df-convert:hover {\n",
              "      background-color: #E2EBFA;\n",
              "      box-shadow: 0px 1px 2px rgba(60, 64, 67, 0.3), 0px 1px 3px 1px rgba(60, 64, 67, 0.15);\n",
              "      fill: #174EA6;\n",
              "    }\n",
              "\n",
              "    .colab-df-buttons div {\n",
              "      margin-bottom: 4px;\n",
              "    }\n",
              "\n",
              "    [theme=dark] .colab-df-convert {\n",
              "      background-color: #3B4455;\n",
              "      fill: #D2E3FC;\n",
              "    }\n",
              "\n",
              "    [theme=dark] .colab-df-convert:hover {\n",
              "      background-color: #434B5C;\n",
              "      box-shadow: 0px 1px 3px 1px rgba(0, 0, 0, 0.15);\n",
              "      filter: drop-shadow(0px 1px 2px rgba(0, 0, 0, 0.3));\n",
              "      fill: #FFFFFF;\n",
              "    }\n",
              "  </style>\n",
              "\n",
              "    <script>\n",
              "      const buttonEl =\n",
              "        document.querySelector('#df-b5042cde-9e93-4c1e-a718-b154f1e89d09 button.colab-df-convert');\n",
              "      buttonEl.style.display =\n",
              "        google.colab.kernel.accessAllowed ? 'block' : 'none';\n",
              "\n",
              "      async function convertToInteractive(key) {\n",
              "        const element = document.querySelector('#df-b5042cde-9e93-4c1e-a718-b154f1e89d09');\n",
              "        const dataTable =\n",
              "          await google.colab.kernel.invokeFunction('convertToInteractive',\n",
              "                                                    [key], {});\n",
              "        if (!dataTable) return;\n",
              "\n",
              "        const docLinkHtml = 'Like what you see? Visit the ' +\n",
              "          '<a target=\"_blank\" href=https://colab.research.google.com/notebooks/data_table.ipynb>data table notebook</a>'\n",
              "          + ' to learn more about interactive tables.';\n",
              "        element.innerHTML = '';\n",
              "        dataTable['output_type'] = 'display_data';\n",
              "        await google.colab.output.renderOutput(dataTable, element);\n",
              "        const docLink = document.createElement('div');\n",
              "        docLink.innerHTML = docLinkHtml;\n",
              "        element.appendChild(docLink);\n",
              "      }\n",
              "    </script>\n",
              "  </div>\n",
              "\n",
              "\n",
              "    </div>\n",
              "  </div>\n"
            ],
            "text/plain": [
              "   bathrooms  bedrooms  parkingSpaces  suites  usableAreas  condo_imputed  \\\n",
              "0       0.06      0.08           0.05    0.08         0.31           0.26   \n",
              "\n",
              "   Apartamento  Zona Oeste  Zona Norte  Zona Sul  \n",
              "0         0.01        0.01        0.02      0.11  "
            ]
          },
          "execution_count": 103,
          "metadata": {},
          "output_type": "execute_result"
        }
      ],
      "source": [
        "importances = rf_hopt_fitted.featureImportances\n",
        "dict_importances = {}\n",
        "for idx, importance in enumerate(importances):\n",
        "    dict_importances[all_features[idx]] = round(importance, 2)\n",
        "\n",
        "pd.DataFrame([dict_importances])"
      ]
    },
    {
      "cell_type": "markdown",
      "metadata": {
        "id": "9cOZCGHBWZPr"
      },
      "source": [
        "## Exportando o modelo"
      ]
    },
    {
      "cell_type": "markdown",
      "metadata": {
        "id": "EBWvrcu-g6NO"
      },
      "source": [
        "Tanto o modelo quanto a pipeline de pré-processamento podem ser salvos para utilizarmos posteriormente"
      ]
    },
    {
      "cell_type": "code",
      "execution_count": null,
      "metadata": {
        "id": "471alRRiJz1K"
      },
      "outputs": [],
      "source": [
        "final_pipeline = Pipeline(stages= [indexer, encoder, assembler, minmax])\n",
        "final_pipeline_fitted = final_pipeline.fit(treino)\n",
        "final_pipeline_fitted.save('pipeline_fitted')"
      ]
    },
    {
      "cell_type": "code",
      "execution_count": null,
      "metadata": {
        "id": "FQH6io9iPjwu"
      },
      "outputs": [],
      "source": [
        "rf_hopt_fitted.save('rf_fitted')"
      ]
    },
    {
      "cell_type": "code",
      "execution_count": null,
      "metadata": {
        "id": "RX2FN_8ghmzK"
      },
      "outputs": [],
      "source": [
        "#!zip -qq -r ./pipeline.zip ./pipeline_fitted\n",
        "#!zip -qq -r ./model.zip ./rf_fitted"
      ]
    },
    {
      "cell_type": "markdown",
      "metadata": {
        "id": "DdhPuODdpuHQ"
      },
      "source": [
        "# Colocando o modelo em produção"
      ]
    },
    {
      "cell_type": "markdown",
      "source": [
        "Nessa seção apresentamos duas opções para que usuários tenham acesso ao modelo desenvolvido. A primeira é um aplicativo web utilizando a biblioteca Gradio e a segunda é uma API construída com a FastAPI. Aqui as duas soluções rodarão localmente mas ambas podem ser implementadas numa plataforma de nuvem, por exemplo."
      ],
      "metadata": {
        "id": "cUSs4fg4lhe6"
      }
    },
    {
      "cell_type": "markdown",
      "metadata": {
        "id": "w04mDAD6kGAf"
      },
      "source": [
        "## Importação do modelo"
      ]
    },
    {
      "cell_type": "markdown",
      "source": [
        "O primeiro passo é importar o modelo e a pipeline que foram construídos e salvos anteriormente"
      ],
      "metadata": {
        "id": "rybEGAvun99F"
      }
    },
    {
      "cell_type": "code",
      "execution_count": null,
      "metadata": {
        "id": "PE1COEdPlo1h"
      },
      "outputs": [],
      "source": [
        "! wget -qq -O model.zip https://github.com/kamillafsilva/preditor_preco_imovel/blob/main/assets/model.zip?raw=true\n",
        "! wget -qq -O pipeline.zip https://github.com/kamillafsilva/preditor_preco_imovel/blob/main/assets/pipeline.zip?raw=true"
      ]
    },
    {
      "cell_type": "code",
      "execution_count": null,
      "metadata": {
        "id": "PA4Ovxr_QyOQ"
      },
      "outputs": [],
      "source": [
        "!unzip -qq model.zip\n",
        "!unzip -qq pipeline.zip"
      ]
    },
    {
      "cell_type": "markdown",
      "metadata": {
        "id": "zVpKBJnVSjhj"
      },
      "source": [
        "## Criando um aplicativo web com o Gradio"
      ]
    },
    {
      "cell_type": "code",
      "execution_count": null,
      "metadata": {
        "id": "Wh-3pIhvS3cb"
      },
      "outputs": [],
      "source": [
        "!pip -qq install pyspark gradio"
      ]
    },
    {
      "cell_type": "code",
      "execution_count": null,
      "metadata": {
        "id": "6Xg8plAXR7hO"
      },
      "outputs": [],
      "source": [
        "from pyspark.sql import SparkSession\n",
        "\n",
        "from pyspark.sql import functions as f\n",
        "from pyspark.sql.types import StringType\n",
        "\n",
        "from pyspark.ml.regression import RandomForestRegressionModel\n",
        "from pyspark.ml import PipelineModel\n",
        "\n",
        "import gradio as gr"
      ]
    },
    {
      "cell_type": "markdown",
      "source": [
        "Na construção do aplicativo precisamos passar como parâmetro uma função que recebe as caracteríticas do imóvel desejado pelo usuário e retorna o valor estimado desse imóvel."
      ],
      "metadata": {
        "id": "VaD7iK0jo1xK"
      }
    },
    {
      "cell_type": "code",
      "execution_count": null,
      "metadata": {
        "id": "4YNMHqq5jncc"
      },
      "outputs": [],
      "source": [
        "def predict(unit, bathrooms, bedrooms, parkingSpaces, suites, usableAreas, zone, condo):\n",
        "\n",
        "  spark = SparkSession.builder\\\n",
        "    .master('local[*]')\\\n",
        "    .appName(\"Deploy com Gradio\")\\\n",
        "    .getOrCreate()\n",
        "\n",
        "  loaded_pipeline = PipelineModel.load('pipeline_fitted')\n",
        "  loaded_model = RandomForestRegressionModel.load('rf_fitted')\n",
        "\n",
        "  input =  [(unit, bathrooms, bedrooms, parkingSpaces, suites, usableAreas, zone, condo, 0)]\n",
        "  col_names = ['unit', 'bathrooms', 'bedrooms', 'parkingSpaces', 'suites', 'usableAreas', 'zone', 'condo_imputed', 'target']\n",
        "  x = spark.createDataFrame(data = input, schema = col_names)\n",
        "\n",
        "  num = [f.name for f in x.schema.fields if not isinstance(f.dataType, StringType)]\n",
        "\n",
        "  x_transformed = x\n",
        "  for col in num:\n",
        "    x_transformed = x_transformed.withColumn(col, f.log(x[col] + 1).alias(col))\n",
        "\n",
        "  x_scaled = loaded_pipeline.transform(x).select('features_minmax', 'target')\n",
        "  pred = loaded_model.transform(x_scaled)\n",
        "\n",
        "  inv_pred = pred\n",
        "  inv_pred = pred.withColumn('prediction', (f.exp(pred['prediction']) - 1).alias('inv_prediction'))\n",
        "\n",
        "  y = round(inv_pred.collect()[0][2], 0)\n",
        "\n",
        "  spark.stop()\n",
        "\n",
        "  return y"
      ]
    },
    {
      "cell_type": "markdown",
      "source": [
        "Além da função `predict`, também passamos para a classe `Interface` os dados de entrada do modelo (`inputs`) especificando o tipo de cada um. Por fim específicamos o tipo de retorno esperado (`outputs`), nesse caso, o retorno da função `predict` é um valor númerico (preço do imóvel)"
      ],
      "metadata": {
        "id": "d0UD2j9oquvp"
      }
    },
    {
      "cell_type": "code",
      "execution_count": null,
      "metadata": {
        "id": "VFo3sLG9tAnl"
      },
      "outputs": [],
      "source": [
        "demo = gr.Interface(title=  'Preditor de preço de imóveis',\n",
        "    fn=predict,\n",
        "    inputs=[gr.Dropdown(['Apartamento', 'Casa'], label='Tipo do imóvel'),\n",
        "        gr.Slider(minimum=0, maximum= 50, step=1, label='Quantidade de banheiros'),\n",
        "        gr.Slider(minimum=0, maximum= 50, step=1, label='Quantidade de quartos'),\n",
        "        gr.Slider(minimum=0, maximum= 50, step=1, label='Quantidade de vagas de garagem'),\n",
        "        gr.Slider(minimum=0, maximum= 50, step=1, label='Quantidade de suítes'),\n",
        "        gr.Slider(minimum=0, maximum= 500, step=5, label='Área útil do imóvel'),\n",
        "        gr.Dropdown(['Zona Oeste', 'Zona Norte', 'Zona Sul', 'Zona Central'], label='Zona de localização do imóvel'),\n",
        "        gr.Slider(minimum=0, maximum= 10000, step=250, label='Valor do condomínio'),\n",
        "    ],\n",
        "    outputs=gr.Number(label='Valor estimado do imóvel')\n",
        ")"
      ]
    },
    {
      "cell_type": "markdown",
      "source": [
        "O método `lauch` abre o aplicativo criado, nele os usuário podem informar as caracteríticas do imóvel e ver o valor estimado clicando no botão ***Submit***"
      ],
      "metadata": {
        "id": "t9j4tshqs7m5"
      }
    },
    {
      "cell_type": "code",
      "source": [
        "demo.launch(share= True )"
      ],
      "metadata": {
        "colab": {
          "base_uri": "https://localhost:8080/",
          "height": 611
        },
        "id": "JxHGPllKs6Ac",
        "outputId": "a33f4ce9-3d3e-40bd-d75a-ed33227e62f1"
      },
      "execution_count": null,
      "outputs": [
        {
          "output_type": "stream",
          "name": "stdout",
          "text": [
            "Colab notebook detected. To show errors in colab notebook, set debug=True in launch()\n",
            "Running on public URL: https://dc17d9457f2942472c.gradio.live\n",
            "\n",
            "This share link expires in 72 hours. For free permanent hosting and GPU upgrades, run `gradio deploy` from Terminal to deploy to Spaces (https://huggingface.co/spaces)\n"
          ]
        },
        {
          "output_type": "display_data",
          "data": {
            "text/plain": [
              "<IPython.core.display.HTML object>"
            ],
            "text/html": [
              "<div><iframe src=\"https://dc17d9457f2942472c.gradio.live\" width=\"100%\" height=\"500\" allow=\"autoplay; camera; microphone; clipboard-read; clipboard-write;\" frameborder=\"0\" allowfullscreen></iframe></div>"
            ]
          },
          "metadata": {}
        },
        {
          "output_type": "execute_result",
          "data": {
            "text/plain": []
          },
          "metadata": {},
          "execution_count": 9
        }
      ]
    },
    {
      "cell_type": "markdown",
      "metadata": {
        "id": "5AfoOUWxexEn"
      },
      "source": [
        "## Criando uma API com a biblioteca FastAPI"
      ]
    },
    {
      "cell_type": "code",
      "execution_count": null,
      "metadata": {
        "id": "oKylpMOhfY_M"
      },
      "outputs": [],
      "source": [
        "!pip -qq install pyspark fastapi uvicorn nest-asyncio pyngrok"
      ]
    },
    {
      "cell_type": "code",
      "source": [
        "import nest_asyncio\n",
        "from pyngrok import ngrok\n",
        "import uvicorn"
      ],
      "metadata": {
        "id": "CxV_hVFkqSJX"
      },
      "execution_count": null,
      "outputs": []
    },
    {
      "cell_type": "markdown",
      "source": [
        "Para criação da API precisamos instanciar um objeto da classe **`FastAPI`** e sobrescrever um de seus métodos para criação de *endpoints*. O método `post` foi sobrescrito com uma nova função `predict` similar a utilizada no Gradio mas que recebe como parâmetro um objeto com a seguinte estrutura (exemplo):\n",
        "\n",
        "```\n",
        "{\n",
        "  \"unit\": \"Apartamento\",\n",
        "  \"bathrooms\": 0,\n",
        "  \"bedrooms\": 0,\n",
        "  \"parkingSpaces\": 0,\n",
        "  \"suites\": 0,\n",
        "  \"usableAreas\": 0,\n",
        "  \"zone\": \"Zona Oeste\",\n",
        "  \"condo\": 0\n",
        "}\n",
        "```\n",
        "\n",
        "O arquivo **main.py** contem essa implementação da API\n",
        "\n",
        "\n",
        "\n",
        "\n"
      ],
      "metadata": {
        "id": "-ot9Tno9nfWc"
      }
    },
    {
      "cell_type": "code",
      "source": [
        "! wget -qq -O ./main.py https://github.com/kamillafsilva/preditor_preco_imovel/blob/main/main.py?raw=true"
      ],
      "metadata": {
        "id": "cm-RaNRYDAdZ"
      },
      "execution_count": null,
      "outputs": []
    },
    {
      "cell_type": "markdown",
      "source": [
        "Para testar a API criada precisamos rodá-la num servidor web local. O pacote `uvicorn` já nos permite isso, mas no Colab precisaremos também do pacote `pyngrok` para expor esse servidor local na Internet. O uso do `pyngrok` requer um *token* de autenticação, obtido nesse [link](https://dashboard.ngrok.com/get-started/your-authtoken) após a criação de uma conta. A autenticação com o *token* gerado é feita com o código abaixo:"
      ],
      "metadata": {
        "id": "5hOH7iQmLBs9"
      }
    },
    {
      "cell_type": "code",
      "source": [
        "!ngrok config add-authtoken \"YOUR_TOKEN\""
      ],
      "metadata": {
        "id": "gAt0_7D8T3aS"
      },
      "execution_count": null,
      "outputs": []
    },
    {
      "cell_type": "markdown",
      "source": [
        "Agora podemos iniciar o servidor da API e esperar que o `uvicorn` informe que aplicação está pronta (\"*Application startup complete*\"). Finalmente, a API criada pode ser acessada na ***FastAPI Interface url*** fornecida pelo `pyngrok`"
      ],
      "metadata": {
        "id": "xowDzsrNOLNL"
      }
    },
    {
      "cell_type": "code",
      "execution_count": null,
      "metadata": {
        "id": "3zzkQtXme1WQ"
      },
      "outputs": [],
      "source": [
        "ngrok_tunnel = ngrok.connect('8000')\n",
        "print('FastAPI Interface url:', ngrok_tunnel.public_url + '/docs')\n",
        "nest_asyncio.apply()\n",
        "\n",
        "uvicorn.run('main:app', port=8000)"
      ]
    }
  ],
  "metadata": {
    "colab": {
      "provenance": []
    },
    "kernelspec": {
      "display_name": "Python 3",
      "name": "python3"
    },
    "language_info": {
      "name": "python"
    }
  },
  "nbformat": 4,
  "nbformat_minor": 0
}